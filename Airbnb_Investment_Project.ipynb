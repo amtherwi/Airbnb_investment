{
 "cells": [
  {
   "cell_type": "markdown",
   "metadata": {},
   "source": [
    "# <font color = blue>  Airbnb Investment Project </font>\n",
    "\n",
    "_Trainees: Abdurrahman Therwi and Mohammad AlQarni_\n",
    "\n",
    "## <font color=blue style={}>Abstract</font>\n",
    "\n",
    "You’re working for a client who wishes to invest in an Airbnb property in Washington, D.C. Before your client decides to invest, they’d like clean data about Airbnb performance in D.C.’s neighborhoods that supports a clear recommendation for an investment in a specific market.\n",
    "\n",
    "\n",
    "\n"
   ]
  },
  {
   "cell_type": "code",
   "execution_count": null,
   "metadata": {
    "scrolled": true
   },
   "outputs": [],
   "source": []
  },
  {
   "cell_type": "markdown",
   "metadata": {},
   "source": [
    "## Pandas and matplot lib"
   ]
  },
  {
   "cell_type": "code",
   "execution_count": 119,
   "metadata": {
    "scrolled": true
   },
   "outputs": [],
   "source": [
    "from IPython.display import HTML\n",
    "\n",
    "import pandas as pd\n",
    "import numpy as np\n",
    "import seaborn as sns\n",
    "import matplotlib.pyplot as plt\n",
    "\n",
    "plt.style.use('fivethirtyeight')\n",
    "%matplotlib inline\n",
    "\n",
    "# Increase default figure and font sizes for easier viewing.\n",
    "plt.rcParams['figure.figsize'] = (8, 6)\n",
    "plt.rcParams['font.size'] = 14"
   ]
  },
  {
   "cell_type": "code",
   "execution_count": null,
   "metadata": {},
   "outputs": [],
   "source": []
  },
  {
   "cell_type": "code",
   "execution_count": null,
   "metadata": {},
   "outputs": [],
   "source": []
  },
  {
   "cell_type": "code",
   "execution_count": 2,
   "metadata": {
    "scrolled": true
   },
   "outputs": [],
   "source": [
    "# load data set from Airbnb.csv file to varibale\n",
    "airbnb_df = pd.read_csv('DataSet/AirBnB.csv')"
   ]
  },
  {
   "cell_type": "markdown",
   "metadata": {},
   "source": [
    "### Step 0: Examine Data Set "
   ]
  },
  {
   "cell_type": "markdown",
   "metadata": {},
   "source": [
    "**Check data loaded by show sample from AirbnbDS.**"
   ]
  },
  {
   "cell_type": "code",
   "execution_count": 3,
   "metadata": {
    "scrolled": true
   },
   "outputs": [
    {
     "data": {
      "text/html": [
       "<div>\n",
       "<style scoped>\n",
       "    .dataframe tbody tr th:only-of-type {\n",
       "        vertical-align: middle;\n",
       "    }\n",
       "\n",
       "    .dataframe tbody tr th {\n",
       "        vertical-align: top;\n",
       "    }\n",
       "\n",
       "    .dataframe thead th {\n",
       "        text-align: right;\n",
       "    }\n",
       "</style>\n",
       "<table border=\"1\" class=\"dataframe\">\n",
       "  <thead>\n",
       "    <tr style=\"text-align: right;\">\n",
       "      <th></th>\n",
       "      <th>id</th>\n",
       "      <th>name</th>\n",
       "      <th>summary</th>\n",
       "      <th>space</th>\n",
       "      <th>host_id</th>\n",
       "      <th>host_url</th>\n",
       "      <th>host_name</th>\n",
       "      <th>host_since</th>\n",
       "      <th>host_location</th>\n",
       "      <th>host_about</th>\n",
       "      <th>...</th>\n",
       "      <th>number_of_reviews</th>\n",
       "      <th>first_review</th>\n",
       "      <th>last_review</th>\n",
       "      <th>review_scores_rating</th>\n",
       "      <th>review_scores_accuracy</th>\n",
       "      <th>review_scores_cleanliness</th>\n",
       "      <th>review_scores_checkin</th>\n",
       "      <th>review_scores_communication</th>\n",
       "      <th>review_scores_location</th>\n",
       "      <th>review_scores_value</th>\n",
       "    </tr>\n",
       "  </thead>\n",
       "  <tbody>\n",
       "    <tr>\n",
       "      <th>0</th>\n",
       "      <td>7087327</td>\n",
       "      <td>Historic DC Condo-Walk to Capitol!</td>\n",
       "      <td>Professional pictures coming soon! Welcome to ...</td>\n",
       "      <td>NaN</td>\n",
       "      <td>15830506</td>\n",
       "      <td>https://www.airbnb.com/users/show/15830506</td>\n",
       "      <td>Lize &amp; Greg</td>\n",
       "      <td>5/21/14</td>\n",
       "      <td>Washington, District of Columbia, United States</td>\n",
       "      <td>We are two fun, friendly entrepreneurs living ...</td>\n",
       "      <td>...</td>\n",
       "      <td>0</td>\n",
       "      <td>NaN</td>\n",
       "      <td>NaN</td>\n",
       "      <td>NaN</td>\n",
       "      <td>NaN</td>\n",
       "      <td>NaN</td>\n",
       "      <td>NaN</td>\n",
       "      <td>NaN</td>\n",
       "      <td>NaN</td>\n",
       "      <td>NaN</td>\n",
       "    </tr>\n",
       "    <tr>\n",
       "      <th>1</th>\n",
       "      <td>975833</td>\n",
       "      <td>Spacious Capitol Hill Townhouse</td>\n",
       "      <td>NaN</td>\n",
       "      <td>Beautifully renovated Capitol Hill townhouse. ...</td>\n",
       "      <td>5338703</td>\n",
       "      <td>https://www.airbnb.com/users/show/5338703</td>\n",
       "      <td>Sebastian</td>\n",
       "      <td>3/5/13</td>\n",
       "      <td>New York, New York, United States</td>\n",
       "      <td>Hi I'm Sebastian. \\r\\nAfter ten years in DC, m...</td>\n",
       "      <td>...</td>\n",
       "      <td>65</td>\n",
       "      <td>3/22/13</td>\n",
       "      <td>9/28/15</td>\n",
       "      <td>94.0</td>\n",
       "      <td>10.0</td>\n",
       "      <td>9.0</td>\n",
       "      <td>10.0</td>\n",
       "      <td>10.0</td>\n",
       "      <td>9.0</td>\n",
       "      <td>9.0</td>\n",
       "    </tr>\n",
       "    <tr>\n",
       "      <th>2</th>\n",
       "      <td>8249488</td>\n",
       "      <td>Spacious/private room for single</td>\n",
       "      <td>This is an ideal room for a single traveler th...</td>\n",
       "      <td>NaN</td>\n",
       "      <td>1487418</td>\n",
       "      <td>https://www.airbnb.com/users/show/1487418</td>\n",
       "      <td>Craig</td>\n",
       "      <td>12/9/11</td>\n",
       "      <td>Washington, District of Columbia, United States</td>\n",
       "      <td>just ask</td>\n",
       "      <td>...</td>\n",
       "      <td>1</td>\n",
       "      <td>9/10/15</td>\n",
       "      <td>9/10/15</td>\n",
       "      <td>NaN</td>\n",
       "      <td>NaN</td>\n",
       "      <td>NaN</td>\n",
       "      <td>NaN</td>\n",
       "      <td>NaN</td>\n",
       "      <td>NaN</td>\n",
       "      <td>NaN</td>\n",
       "    </tr>\n",
       "    <tr>\n",
       "      <th>3</th>\n",
       "      <td>8409022</td>\n",
       "      <td>A wonderful bedroom with library</td>\n",
       "      <td>Prime location right on the Potomac River in W...</td>\n",
       "      <td>NaN</td>\n",
       "      <td>16970249</td>\n",
       "      <td>https://www.airbnb.com/users/show/16970249</td>\n",
       "      <td>Christopher</td>\n",
       "      <td>6/18/14</td>\n",
       "      <td>Washington, District of Columbia, United States</td>\n",
       "      <td>NaN</td>\n",
       "      <td>...</td>\n",
       "      <td>0</td>\n",
       "      <td>NaN</td>\n",
       "      <td>NaN</td>\n",
       "      <td>NaN</td>\n",
       "      <td>NaN</td>\n",
       "      <td>NaN</td>\n",
       "      <td>NaN</td>\n",
       "      <td>NaN</td>\n",
       "      <td>NaN</td>\n",
       "      <td>NaN</td>\n",
       "    </tr>\n",
       "    <tr>\n",
       "      <th>4</th>\n",
       "      <td>8411173</td>\n",
       "      <td>Downtown Silver Spring</td>\n",
       "      <td>Hi travellers! I live in this peaceful spot, b...</td>\n",
       "      <td>This is a 750 sq ft 1 bedroom 1 bathroom.  Whi...</td>\n",
       "      <td>30369828</td>\n",
       "      <td>https://www.airbnb.com/users/show/30369828</td>\n",
       "      <td>Joshua</td>\n",
       "      <td>3/31/15</td>\n",
       "      <td>Baltimore, Maryland, United States</td>\n",
       "      <td>NaN</td>\n",
       "      <td>...</td>\n",
       "      <td>0</td>\n",
       "      <td>NaN</td>\n",
       "      <td>NaN</td>\n",
       "      <td>NaN</td>\n",
       "      <td>NaN</td>\n",
       "      <td>NaN</td>\n",
       "      <td>NaN</td>\n",
       "      <td>NaN</td>\n",
       "      <td>NaN</td>\n",
       "      <td>NaN</td>\n",
       "    </tr>\n",
       "  </tbody>\n",
       "</table>\n",
       "<p>5 rows × 64 columns</p>\n",
       "</div>"
      ],
      "text/plain": [
       "        id                                name  \\\n",
       "0  7087327  Historic DC Condo-Walk to Capitol!   \n",
       "1   975833     Spacious Capitol Hill Townhouse   \n",
       "2  8249488    Spacious/private room for single   \n",
       "3  8409022    A wonderful bedroom with library   \n",
       "4  8411173              Downtown Silver Spring   \n",
       "\n",
       "                                             summary  \\\n",
       "0  Professional pictures coming soon! Welcome to ...   \n",
       "1                                                NaN   \n",
       "2  This is an ideal room for a single traveler th...   \n",
       "3  Prime location right on the Potomac River in W...   \n",
       "4  Hi travellers! I live in this peaceful spot, b...   \n",
       "\n",
       "                                               space   host_id  \\\n",
       "0                                                NaN  15830506   \n",
       "1  Beautifully renovated Capitol Hill townhouse. ...   5338703   \n",
       "2                                                NaN   1487418   \n",
       "3                                                NaN  16970249   \n",
       "4  This is a 750 sq ft 1 bedroom 1 bathroom.  Whi...  30369828   \n",
       "\n",
       "                                     host_url    host_name host_since  \\\n",
       "0  https://www.airbnb.com/users/show/15830506  Lize & Greg    5/21/14   \n",
       "1   https://www.airbnb.com/users/show/5338703    Sebastian     3/5/13   \n",
       "2   https://www.airbnb.com/users/show/1487418        Craig    12/9/11   \n",
       "3  https://www.airbnb.com/users/show/16970249  Christopher    6/18/14   \n",
       "4  https://www.airbnb.com/users/show/30369828       Joshua    3/31/15   \n",
       "\n",
       "                                     host_location  \\\n",
       "0  Washington, District of Columbia, United States   \n",
       "1                New York, New York, United States   \n",
       "2  Washington, District of Columbia, United States   \n",
       "3  Washington, District of Columbia, United States   \n",
       "4               Baltimore, Maryland, United States   \n",
       "\n",
       "                                          host_about         ...          \\\n",
       "0  We are two fun, friendly entrepreneurs living ...         ...           \n",
       "1  Hi I'm Sebastian. \\r\\nAfter ten years in DC, m...         ...           \n",
       "2                                           just ask         ...           \n",
       "3                                                NaN         ...           \n",
       "4                                                NaN         ...           \n",
       "\n",
       "  number_of_reviews first_review last_review review_scores_rating  \\\n",
       "0                 0          NaN         NaN                  NaN   \n",
       "1                65      3/22/13     9/28/15                 94.0   \n",
       "2                 1      9/10/15     9/10/15                  NaN   \n",
       "3                 0          NaN         NaN                  NaN   \n",
       "4                 0          NaN         NaN                  NaN   \n",
       "\n",
       "  review_scores_accuracy review_scores_cleanliness review_scores_checkin  \\\n",
       "0                    NaN                       NaN                   NaN   \n",
       "1                   10.0                       9.0                  10.0   \n",
       "2                    NaN                       NaN                   NaN   \n",
       "3                    NaN                       NaN                   NaN   \n",
       "4                    NaN                       NaN                   NaN   \n",
       "\n",
       "   review_scores_communication  review_scores_location review_scores_value  \n",
       "0                          NaN                     NaN                 NaN  \n",
       "1                         10.0                     9.0                 9.0  \n",
       "2                          NaN                     NaN                 NaN  \n",
       "3                          NaN                     NaN                 NaN  \n",
       "4                          NaN                     NaN                 NaN  \n",
       "\n",
       "[5 rows x 64 columns]"
      ]
     },
     "execution_count": 3,
     "metadata": {},
     "output_type": "execute_result"
    }
   ],
   "source": [
    "airbnb_df.head()"
   ]
  },
  {
   "cell_type": "code",
   "execution_count": null,
   "metadata": {
    "scrolled": true
   },
   "outputs": [],
   "source": []
  },
  {
   "cell_type": "markdown",
   "metadata": {},
   "source": [
    "**Shows information of loaded DataSet.**"
   ]
  },
  {
   "cell_type": "code",
   "execution_count": 4,
   "metadata": {
    "scrolled": true
   },
   "outputs": [
    {
     "data": {
      "text/html": [
       "<div>\n",
       "<style scoped>\n",
       "    .dataframe tbody tr th:only-of-type {\n",
       "        vertical-align: middle;\n",
       "    }\n",
       "\n",
       "    .dataframe tbody tr th {\n",
       "        vertical-align: top;\n",
       "    }\n",
       "\n",
       "    .dataframe thead th {\n",
       "        text-align: right;\n",
       "    }\n",
       "</style>\n",
       "<table border=\"1\" class=\"dataframe\">\n",
       "  <thead>\n",
       "    <tr style=\"text-align: right;\">\n",
       "      <th></th>\n",
       "      <th>id</th>\n",
       "      <th>name</th>\n",
       "      <th>summary</th>\n",
       "      <th>space</th>\n",
       "      <th>host_id</th>\n",
       "      <th>host_url</th>\n",
       "      <th>host_name</th>\n",
       "      <th>host_since</th>\n",
       "      <th>host_location</th>\n",
       "      <th>host_about</th>\n",
       "      <th>...</th>\n",
       "      <th>number_of_reviews</th>\n",
       "      <th>first_review</th>\n",
       "      <th>last_review</th>\n",
       "      <th>review_scores_rating</th>\n",
       "      <th>review_scores_accuracy</th>\n",
       "      <th>review_scores_cleanliness</th>\n",
       "      <th>review_scores_checkin</th>\n",
       "      <th>review_scores_communication</th>\n",
       "      <th>review_scores_location</th>\n",
       "      <th>review_scores_value</th>\n",
       "    </tr>\n",
       "  </thead>\n",
       "  <tbody>\n",
       "    <tr>\n",
       "      <th>0</th>\n",
       "      <td>7087327</td>\n",
       "      <td>Historic DC Condo-Walk to Capitol!</td>\n",
       "      <td>Professional pictures coming soon! Welcome to ...</td>\n",
       "      <td>NaN</td>\n",
       "      <td>15830506</td>\n",
       "      <td>https://www.airbnb.com/users/show/15830506</td>\n",
       "      <td>Lize &amp; Greg</td>\n",
       "      <td>5/21/14</td>\n",
       "      <td>Washington, District of Columbia, United States</td>\n",
       "      <td>We are two fun, friendly entrepreneurs living ...</td>\n",
       "      <td>...</td>\n",
       "      <td>0</td>\n",
       "      <td>NaN</td>\n",
       "      <td>NaN</td>\n",
       "      <td>NaN</td>\n",
       "      <td>NaN</td>\n",
       "      <td>NaN</td>\n",
       "      <td>NaN</td>\n",
       "      <td>NaN</td>\n",
       "      <td>NaN</td>\n",
       "      <td>NaN</td>\n",
       "    </tr>\n",
       "    <tr>\n",
       "      <th>1</th>\n",
       "      <td>975833</td>\n",
       "      <td>Spacious Capitol Hill Townhouse</td>\n",
       "      <td>NaN</td>\n",
       "      <td>Beautifully renovated Capitol Hill townhouse. ...</td>\n",
       "      <td>5338703</td>\n",
       "      <td>https://www.airbnb.com/users/show/5338703</td>\n",
       "      <td>Sebastian</td>\n",
       "      <td>3/5/13</td>\n",
       "      <td>New York, New York, United States</td>\n",
       "      <td>Hi I'm Sebastian. \\r\\nAfter ten years in DC, m...</td>\n",
       "      <td>...</td>\n",
       "      <td>65</td>\n",
       "      <td>3/22/13</td>\n",
       "      <td>9/28/15</td>\n",
       "      <td>94.0</td>\n",
       "      <td>10.0</td>\n",
       "      <td>9.0</td>\n",
       "      <td>10.0</td>\n",
       "      <td>10.0</td>\n",
       "      <td>9.0</td>\n",
       "      <td>9.0</td>\n",
       "    </tr>\n",
       "    <tr>\n",
       "      <th>2</th>\n",
       "      <td>8249488</td>\n",
       "      <td>Spacious/private room for single</td>\n",
       "      <td>This is an ideal room for a single traveler th...</td>\n",
       "      <td>NaN</td>\n",
       "      <td>1487418</td>\n",
       "      <td>https://www.airbnb.com/users/show/1487418</td>\n",
       "      <td>Craig</td>\n",
       "      <td>12/9/11</td>\n",
       "      <td>Washington, District of Columbia, United States</td>\n",
       "      <td>just ask</td>\n",
       "      <td>...</td>\n",
       "      <td>1</td>\n",
       "      <td>9/10/15</td>\n",
       "      <td>9/10/15</td>\n",
       "      <td>NaN</td>\n",
       "      <td>NaN</td>\n",
       "      <td>NaN</td>\n",
       "      <td>NaN</td>\n",
       "      <td>NaN</td>\n",
       "      <td>NaN</td>\n",
       "      <td>NaN</td>\n",
       "    </tr>\n",
       "    <tr>\n",
       "      <th>3</th>\n",
       "      <td>8409022</td>\n",
       "      <td>A wonderful bedroom with library</td>\n",
       "      <td>Prime location right on the Potomac River in W...</td>\n",
       "      <td>NaN</td>\n",
       "      <td>16970249</td>\n",
       "      <td>https://www.airbnb.com/users/show/16970249</td>\n",
       "      <td>Christopher</td>\n",
       "      <td>6/18/14</td>\n",
       "      <td>Washington, District of Columbia, United States</td>\n",
       "      <td>NaN</td>\n",
       "      <td>...</td>\n",
       "      <td>0</td>\n",
       "      <td>NaN</td>\n",
       "      <td>NaN</td>\n",
       "      <td>NaN</td>\n",
       "      <td>NaN</td>\n",
       "      <td>NaN</td>\n",
       "      <td>NaN</td>\n",
       "      <td>NaN</td>\n",
       "      <td>NaN</td>\n",
       "      <td>NaN</td>\n",
       "    </tr>\n",
       "    <tr>\n",
       "      <th>4</th>\n",
       "      <td>8411173</td>\n",
       "      <td>Downtown Silver Spring</td>\n",
       "      <td>Hi travellers! I live in this peaceful spot, b...</td>\n",
       "      <td>This is a 750 sq ft 1 bedroom 1 bathroom.  Whi...</td>\n",
       "      <td>30369828</td>\n",
       "      <td>https://www.airbnb.com/users/show/30369828</td>\n",
       "      <td>Joshua</td>\n",
       "      <td>3/31/15</td>\n",
       "      <td>Baltimore, Maryland, United States</td>\n",
       "      <td>NaN</td>\n",
       "      <td>...</td>\n",
       "      <td>0</td>\n",
       "      <td>NaN</td>\n",
       "      <td>NaN</td>\n",
       "      <td>NaN</td>\n",
       "      <td>NaN</td>\n",
       "      <td>NaN</td>\n",
       "      <td>NaN</td>\n",
       "      <td>NaN</td>\n",
       "      <td>NaN</td>\n",
       "      <td>NaN</td>\n",
       "    </tr>\n",
       "  </tbody>\n",
       "</table>\n",
       "<p>5 rows × 64 columns</p>\n",
       "</div>"
      ],
      "text/plain": [
       "        id                                name  \\\n",
       "0  7087327  Historic DC Condo-Walk to Capitol!   \n",
       "1   975833     Spacious Capitol Hill Townhouse   \n",
       "2  8249488    Spacious/private room for single   \n",
       "3  8409022    A wonderful bedroom with library   \n",
       "4  8411173              Downtown Silver Spring   \n",
       "\n",
       "                                             summary  \\\n",
       "0  Professional pictures coming soon! Welcome to ...   \n",
       "1                                                NaN   \n",
       "2  This is an ideal room for a single traveler th...   \n",
       "3  Prime location right on the Potomac River in W...   \n",
       "4  Hi travellers! I live in this peaceful spot, b...   \n",
       "\n",
       "                                               space   host_id  \\\n",
       "0                                                NaN  15830506   \n",
       "1  Beautifully renovated Capitol Hill townhouse. ...   5338703   \n",
       "2                                                NaN   1487418   \n",
       "3                                                NaN  16970249   \n",
       "4  This is a 750 sq ft 1 bedroom 1 bathroom.  Whi...  30369828   \n",
       "\n",
       "                                     host_url    host_name host_since  \\\n",
       "0  https://www.airbnb.com/users/show/15830506  Lize & Greg    5/21/14   \n",
       "1   https://www.airbnb.com/users/show/5338703    Sebastian     3/5/13   \n",
       "2   https://www.airbnb.com/users/show/1487418        Craig    12/9/11   \n",
       "3  https://www.airbnb.com/users/show/16970249  Christopher    6/18/14   \n",
       "4  https://www.airbnb.com/users/show/30369828       Joshua    3/31/15   \n",
       "\n",
       "                                     host_location  \\\n",
       "0  Washington, District of Columbia, United States   \n",
       "1                New York, New York, United States   \n",
       "2  Washington, District of Columbia, United States   \n",
       "3  Washington, District of Columbia, United States   \n",
       "4               Baltimore, Maryland, United States   \n",
       "\n",
       "                                          host_about         ...          \\\n",
       "0  We are two fun, friendly entrepreneurs living ...         ...           \n",
       "1  Hi I'm Sebastian. \\r\\nAfter ten years in DC, m...         ...           \n",
       "2                                           just ask         ...           \n",
       "3                                                NaN         ...           \n",
       "4                                                NaN         ...           \n",
       "\n",
       "  number_of_reviews first_review last_review review_scores_rating  \\\n",
       "0                 0          NaN         NaN                  NaN   \n",
       "1                65      3/22/13     9/28/15                 94.0   \n",
       "2                 1      9/10/15     9/10/15                  NaN   \n",
       "3                 0          NaN         NaN                  NaN   \n",
       "4                 0          NaN         NaN                  NaN   \n",
       "\n",
       "  review_scores_accuracy review_scores_cleanliness review_scores_checkin  \\\n",
       "0                    NaN                       NaN                   NaN   \n",
       "1                   10.0                       9.0                  10.0   \n",
       "2                    NaN                       NaN                   NaN   \n",
       "3                    NaN                       NaN                   NaN   \n",
       "4                    NaN                       NaN                   NaN   \n",
       "\n",
       "   review_scores_communication  review_scores_location review_scores_value  \n",
       "0                          NaN                     NaN                 NaN  \n",
       "1                         10.0                     9.0                 9.0  \n",
       "2                          NaN                     NaN                 NaN  \n",
       "3                          NaN                     NaN                 NaN  \n",
       "4                          NaN                     NaN                 NaN  \n",
       "\n",
       "[5 rows x 64 columns]"
      ]
     },
     "execution_count": 4,
     "metadata": {},
     "output_type": "execute_result"
    }
   ],
   "source": [
    "# print the top 5 rows in Data set \n",
    "\n",
    "airbnb_df.head()\n",
    "\n",
    "# also can you print the any number of rows depends on parameter\n",
    "# AirbnbDS.head(10)"
   ]
  },
  {
   "cell_type": "code",
   "execution_count": null,
   "metadata": {
    "scrolled": true
   },
   "outputs": [],
   "source": []
  },
  {
   "cell_type": "code",
   "execution_count": null,
   "metadata": {
    "scrolled": true
   },
   "outputs": [],
   "source": []
  },
  {
   "cell_type": "code",
   "execution_count": 5,
   "metadata": {
    "scrolled": true
   },
   "outputs": [
    {
     "data": {
      "text/plain": [
       "pandas.core.frame.DataFrame"
      ]
     },
     "execution_count": 5,
     "metadata": {},
     "output_type": "execute_result"
    }
   ],
   "source": [
    "#show the dataset type  using\n",
    "type(airbnb_df)  "
   ]
  },
  {
   "cell_type": "code",
   "execution_count": null,
   "metadata": {
    "scrolled": true
   },
   "outputs": [],
   "source": []
  },
  {
   "cell_type": "code",
   "execution_count": 6,
   "metadata": {
    "scrolled": true
   },
   "outputs": [
    {
     "data": {
      "text/plain": [
       "RangeIndex(start=0, stop=3723, step=1)"
      ]
     },
     "execution_count": 6,
     "metadata": {},
     "output_type": "execute_result"
    }
   ],
   "source": [
    "# row index\n",
    "airbnb_df.index"
   ]
  },
  {
   "cell_type": "code",
   "execution_count": null,
   "metadata": {
    "scrolled": true
   },
   "outputs": [],
   "source": []
  },
  {
   "cell_type": "code",
   "execution_count": 7,
   "metadata": {
    "scrolled": true
   },
   "outputs": [
    {
     "data": {
      "text/plain": [
       "Index(['id', 'name', 'summary', 'space', 'host_id', 'host_url', 'host_name',\n",
       "       'host_since', 'host_location', 'host_about', 'host_response_time',\n",
       "       'host_response_rate', 'host_acceptance_rate', 'host_is_superhost',\n",
       "       'host_thumbnail_url', 'host_picture_url', 'host_neighbourhood',\n",
       "       'host_listings_count', 'host_total_listings_count',\n",
       "       'host_has_profile_pic', 'host_identity_verified', 'street',\n",
       "       'neighbourhood', 'city', 'state', 'zipcode', 'market', 'country_code',\n",
       "       'latitude', 'longitude', 'is_location_exact', 'property_type',\n",
       "       'room_type', 'accommodates', 'bathrooms', 'bedrooms', 'beds',\n",
       "       'square_feet', 'price', 'weekly_price', 'monthly_price',\n",
       "       'security_deposit', 'cleaning_fee', 'guests_included', 'extra_people',\n",
       "       'minimum_nights', 'maximum_nights', 'calendar_updated',\n",
       "       'has_availability', 'availability_30', 'availability_60',\n",
       "       'availability_90', 'availability_365', 'calendar_last_scraped',\n",
       "       'number_of_reviews', 'first_review', 'last_review',\n",
       "       'review_scores_rating', 'review_scores_accuracy',\n",
       "       'review_scores_cleanliness', 'review_scores_checkin',\n",
       "       'review_scores_communication', 'review_scores_location',\n",
       "       'review_scores_value'],\n",
       "      dtype='object')"
      ]
     },
     "execution_count": 7,
     "metadata": {},
     "output_type": "execute_result"
    }
   ],
   "source": [
    "#shows the columns of DataSet\n",
    "airbnb_df.columns"
   ]
  },
  {
   "cell_type": "code",
   "execution_count": null,
   "metadata": {
    "scrolled": true
   },
   "outputs": [],
   "source": []
  },
  {
   "cell_type": "code",
   "execution_count": 8,
   "metadata": {
    "scrolled": true
   },
   "outputs": [
    {
     "data": {
      "text/plain": [
       "dtype('int64')"
      ]
     },
     "execution_count": 8,
     "metadata": {},
     "output_type": "execute_result"
    }
   ],
   "source": [
    "#shows the Datatypes of id columns \n",
    "airbnb_df['id'].dtypes"
   ]
  },
  {
   "cell_type": "code",
   "execution_count": null,
   "metadata": {
    "scrolled": true
   },
   "outputs": [],
   "source": []
  },
  {
   "cell_type": "code",
   "execution_count": 9,
   "metadata": {
    "scrolled": true
   },
   "outputs": [
    {
     "data": {
      "text/plain": [
       "float64    13\n",
       "int64      13\n",
       "object     38\n",
       "dtype: int64"
      ]
     },
     "execution_count": 9,
     "metadata": {},
     "output_type": "execute_result"
    }
   ],
   "source": [
    "# gives the sum for each data types \n",
    "airbnb_df.get_dtype_counts()"
   ]
  },
  {
   "cell_type": "code",
   "execution_count": null,
   "metadata": {
    "scrolled": true
   },
   "outputs": [],
   "source": []
  },
  {
   "cell_type": "code",
   "execution_count": 10,
   "metadata": {
    "scrolled": true
   },
   "outputs": [
    {
     "data": {
      "text/plain": [
       "(3723, 64)"
      ]
     },
     "execution_count": 10,
     "metadata": {},
     "output_type": "execute_result"
    }
   ],
   "source": [
    "# figure out of number of rows and columns\n",
    "airbnb_df.shape"
   ]
  },
  {
   "cell_type": "code",
   "execution_count": 13,
   "metadata": {
    "scrolled": true
   },
   "outputs": [
    {
     "data": {
      "text/html": [
       "<style  type=\"text/css\" >\n",
       "</style>  \n",
       "<table id=\"T_d32100d0_6bde_11e9_ac39_acde48001122\" > \n",
       "<thead>    <tr> \n",
       "        <th class=\"blank level0\" ></th> \n",
       "        <th class=\"col_heading level0 col0\" >count</th> \n",
       "        <th class=\"col_heading level0 col1\" >mean</th> \n",
       "        <th class=\"col_heading level0 col2\" >std</th> \n",
       "        <th class=\"col_heading level0 col3\" >min</th> \n",
       "        <th class=\"col_heading level0 col4\" >25%</th> \n",
       "        <th class=\"col_heading level0 col5\" >50%</th> \n",
       "        <th class=\"col_heading level0 col6\" >75%</th> \n",
       "        <th class=\"col_heading level0 col7\" >max</th> \n",
       "    </tr></thead> \n",
       "<tbody>    <tr> \n",
       "        <th id=\"T_d32100d0_6bde_11e9_ac39_acde48001122level0_row0\" class=\"row_heading level0 row0\" >id</th> \n",
       "        <td id=\"T_d32100d0_6bde_11e9_ac39_acde48001122row0_col0\" class=\"data row0 col0\" >3723</td> \n",
       "        <td id=\"T_d32100d0_6bde_11e9_ac39_acde48001122row0_col1\" class=\"data row0 col1\" >4.79878e+06</td> \n",
       "        <td id=\"T_d32100d0_6bde_11e9_ac39_acde48001122row0_col2\" class=\"data row0 col2\" >2.6395e+06</td> \n",
       "        <td id=\"T_d32100d0_6bde_11e9_ac39_acde48001122row0_col3\" class=\"data row0 col3\" >3192</td> \n",
       "        <td id=\"T_d32100d0_6bde_11e9_ac39_acde48001122row0_col4\" class=\"data row0 col4\" >2.48224e+06</td> \n",
       "        <td id=\"T_d32100d0_6bde_11e9_ac39_acde48001122row0_col5\" class=\"data row0 col5\" >5.00257e+06</td> \n",
       "        <td id=\"T_d32100d0_6bde_11e9_ac39_acde48001122row0_col6\" class=\"data row0 col6\" >7.14802e+06</td> \n",
       "        <td id=\"T_d32100d0_6bde_11e9_ac39_acde48001122row0_col7\" class=\"data row0 col7\" >8.68867e+06</td> \n",
       "    </tr>    <tr> \n",
       "        <th id=\"T_d32100d0_6bde_11e9_ac39_acde48001122level0_row1\" class=\"row_heading level0 row1\" >host_id</th> \n",
       "        <td id=\"T_d32100d0_6bde_11e9_ac39_acde48001122row1_col0\" class=\"data row1 col0\" >3723</td> \n",
       "        <td id=\"T_d32100d0_6bde_11e9_ac39_acde48001122row1_col1\" class=\"data row1 col1\" >1.4974e+07</td> \n",
       "        <td id=\"T_d32100d0_6bde_11e9_ac39_acde48001122row1_col2\" class=\"data row1 col2\" >1.35111e+07</td> \n",
       "        <td id=\"T_d32100d0_6bde_11e9_ac39_acde48001122row1_col3\" class=\"data row1 col3\" >1585</td> \n",
       "        <td id=\"T_d32100d0_6bde_11e9_ac39_acde48001122row1_col4\" class=\"data row1 col4\" >3.43372e+06</td> \n",
       "        <td id=\"T_d32100d0_6bde_11e9_ac39_acde48001122row1_col5\" class=\"data row1 col5\" >1.03727e+07</td> \n",
       "        <td id=\"T_d32100d0_6bde_11e9_ac39_acde48001122row1_col6\" class=\"data row1 col6\" >2.43309e+07</td> \n",
       "        <td id=\"T_d32100d0_6bde_11e9_ac39_acde48001122row1_col7\" class=\"data row1 col7\" >4.55546e+07</td> \n",
       "    </tr>    <tr> \n",
       "        <th id=\"T_d32100d0_6bde_11e9_ac39_acde48001122level0_row2\" class=\"row_heading level0 row2\" >host_listings_count</th> \n",
       "        <td id=\"T_d32100d0_6bde_11e9_ac39_acde48001122row2_col0\" class=\"data row2 col0\" >3723</td> \n",
       "        <td id=\"T_d32100d0_6bde_11e9_ac39_acde48001122row2_col1\" class=\"data row2 col1\" >13.5173</td> \n",
       "        <td id=\"T_d32100d0_6bde_11e9_ac39_acde48001122row2_col2\" class=\"data row2 col2\" >64.5344</td> \n",
       "        <td id=\"T_d32100d0_6bde_11e9_ac39_acde48001122row2_col3\" class=\"data row2 col3\" >1</td> \n",
       "        <td id=\"T_d32100d0_6bde_11e9_ac39_acde48001122row2_col4\" class=\"data row2 col4\" >1</td> \n",
       "        <td id=\"T_d32100d0_6bde_11e9_ac39_acde48001122row2_col5\" class=\"data row2 col5\" >1</td> \n",
       "        <td id=\"T_d32100d0_6bde_11e9_ac39_acde48001122row2_col6\" class=\"data row2 col6\" >3</td> \n",
       "        <td id=\"T_d32100d0_6bde_11e9_ac39_acde48001122row2_col7\" class=\"data row2 col7\" >480</td> \n",
       "    </tr>    <tr> \n",
       "        <th id=\"T_d32100d0_6bde_11e9_ac39_acde48001122level0_row3\" class=\"row_heading level0 row3\" >host_total_listings_count</th> \n",
       "        <td id=\"T_d32100d0_6bde_11e9_ac39_acde48001122row3_col0\" class=\"data row3 col0\" >3723</td> \n",
       "        <td id=\"T_d32100d0_6bde_11e9_ac39_acde48001122row3_col1\" class=\"data row3 col1\" >13.5173</td> \n",
       "        <td id=\"T_d32100d0_6bde_11e9_ac39_acde48001122row3_col2\" class=\"data row3 col2\" >64.5344</td> \n",
       "        <td id=\"T_d32100d0_6bde_11e9_ac39_acde48001122row3_col3\" class=\"data row3 col3\" >1</td> \n",
       "        <td id=\"T_d32100d0_6bde_11e9_ac39_acde48001122row3_col4\" class=\"data row3 col4\" >1</td> \n",
       "        <td id=\"T_d32100d0_6bde_11e9_ac39_acde48001122row3_col5\" class=\"data row3 col5\" >1</td> \n",
       "        <td id=\"T_d32100d0_6bde_11e9_ac39_acde48001122row3_col6\" class=\"data row3 col6\" >3</td> \n",
       "        <td id=\"T_d32100d0_6bde_11e9_ac39_acde48001122row3_col7\" class=\"data row3 col7\" >480</td> \n",
       "    </tr>    <tr> \n",
       "        <th id=\"T_d32100d0_6bde_11e9_ac39_acde48001122level0_row4\" class=\"row_heading level0 row4\" >latitude</th> \n",
       "        <td id=\"T_d32100d0_6bde_11e9_ac39_acde48001122row4_col0\" class=\"data row4 col0\" >3723</td> \n",
       "        <td id=\"T_d32100d0_6bde_11e9_ac39_acde48001122row4_col1\" class=\"data row4 col1\" >38.914</td> \n",
       "        <td id=\"T_d32100d0_6bde_11e9_ac39_acde48001122row4_col2\" class=\"data row4 col2\" >0.0216466</td> \n",
       "        <td id=\"T_d32100d0_6bde_11e9_ac39_acde48001122row4_col3\" class=\"data row4 col3\" >38.8251</td> \n",
       "        <td id=\"T_d32100d0_6bde_11e9_ac39_acde48001122row4_col4\" class=\"data row4 col4\" >38.9018</td> \n",
       "        <td id=\"T_d32100d0_6bde_11e9_ac39_acde48001122row4_col5\" class=\"data row4 col5\" >38.9134</td> \n",
       "        <td id=\"T_d32100d0_6bde_11e9_ac39_acde48001122row4_col6\" class=\"data row4 col6\" >38.9265</td> \n",
       "        <td id=\"T_d32100d0_6bde_11e9_ac39_acde48001122row4_col7\" class=\"data row4 col7\" >38.9964</td> \n",
       "    </tr>    <tr> \n",
       "        <th id=\"T_d32100d0_6bde_11e9_ac39_acde48001122level0_row5\" class=\"row_heading level0 row5\" >longitude</th> \n",
       "        <td id=\"T_d32100d0_6bde_11e9_ac39_acde48001122row5_col0\" class=\"data row5 col0\" >3723</td> \n",
       "        <td id=\"T_d32100d0_6bde_11e9_ac39_acde48001122row5_col1\" class=\"data row5 col1\" >-77.0233</td> \n",
       "        <td id=\"T_d32100d0_6bde_11e9_ac39_acde48001122row5_col2\" class=\"data row5 col2\" >0.0269513</td> \n",
       "        <td id=\"T_d32100d0_6bde_11e9_ac39_acde48001122row5_col3\" class=\"data row5 col3\" >-77.1105</td> \n",
       "        <td id=\"T_d32100d0_6bde_11e9_ac39_acde48001122row5_col4\" class=\"data row5 col4\" >-77.0399</td> \n",
       "        <td id=\"T_d32100d0_6bde_11e9_ac39_acde48001122row5_col5\" class=\"data row5 col5\" >-77.0264</td> \n",
       "        <td id=\"T_d32100d0_6bde_11e9_ac39_acde48001122row5_col6\" class=\"data row5 col6\" >-77.0028</td> \n",
       "        <td id=\"T_d32100d0_6bde_11e9_ac39_acde48001122row5_col7\" class=\"data row5 col7\" >-76.9131</td> \n",
       "    </tr>    <tr> \n",
       "        <th id=\"T_d32100d0_6bde_11e9_ac39_acde48001122level0_row6\" class=\"row_heading level0 row6\" >accommodates</th> \n",
       "        <td id=\"T_d32100d0_6bde_11e9_ac39_acde48001122row6_col0\" class=\"data row6 col0\" >3723</td> \n",
       "        <td id=\"T_d32100d0_6bde_11e9_ac39_acde48001122row6_col1\" class=\"data row6 col1\" >3.195</td> \n",
       "        <td id=\"T_d32100d0_6bde_11e9_ac39_acde48001122row6_col2\" class=\"data row6 col2\" >2.01222</td> \n",
       "        <td id=\"T_d32100d0_6bde_11e9_ac39_acde48001122row6_col3\" class=\"data row6 col3\" >1</td> \n",
       "        <td id=\"T_d32100d0_6bde_11e9_ac39_acde48001122row6_col4\" class=\"data row6 col4\" >2</td> \n",
       "        <td id=\"T_d32100d0_6bde_11e9_ac39_acde48001122row6_col5\" class=\"data row6 col5\" >2</td> \n",
       "        <td id=\"T_d32100d0_6bde_11e9_ac39_acde48001122row6_col6\" class=\"data row6 col6\" >4</td> \n",
       "        <td id=\"T_d32100d0_6bde_11e9_ac39_acde48001122row6_col7\" class=\"data row6 col7\" >16</td> \n",
       "    </tr>    <tr> \n",
       "        <th id=\"T_d32100d0_6bde_11e9_ac39_acde48001122level0_row7\" class=\"row_heading level0 row7\" >bathrooms</th> \n",
       "        <td id=\"T_d32100d0_6bde_11e9_ac39_acde48001122row7_col0\" class=\"data row7 col0\" >3696</td> \n",
       "        <td id=\"T_d32100d0_6bde_11e9_ac39_acde48001122row7_col1\" class=\"data row7 col1\" >1.25636</td> \n",
       "        <td id=\"T_d32100d0_6bde_11e9_ac39_acde48001122row7_col2\" class=\"data row7 col2\" >0.585539</td> \n",
       "        <td id=\"T_d32100d0_6bde_11e9_ac39_acde48001122row7_col3\" class=\"data row7 col3\" >0</td> \n",
       "        <td id=\"T_d32100d0_6bde_11e9_ac39_acde48001122row7_col4\" class=\"data row7 col4\" >1</td> \n",
       "        <td id=\"T_d32100d0_6bde_11e9_ac39_acde48001122row7_col5\" class=\"data row7 col5\" >1</td> \n",
       "        <td id=\"T_d32100d0_6bde_11e9_ac39_acde48001122row7_col6\" class=\"data row7 col6\" >1</td> \n",
       "        <td id=\"T_d32100d0_6bde_11e9_ac39_acde48001122row7_col7\" class=\"data row7 col7\" >8</td> \n",
       "    </tr>    <tr> \n",
       "        <th id=\"T_d32100d0_6bde_11e9_ac39_acde48001122level0_row8\" class=\"row_heading level0 row8\" >bedrooms</th> \n",
       "        <td id=\"T_d32100d0_6bde_11e9_ac39_acde48001122row8_col0\" class=\"data row8 col0\" >3702</td> \n",
       "        <td id=\"T_d32100d0_6bde_11e9_ac39_acde48001122row8_col1\" class=\"data row8 col1\" >1.21016</td> \n",
       "        <td id=\"T_d32100d0_6bde_11e9_ac39_acde48001122row8_col2\" class=\"data row8 col2\" >0.839851</td> \n",
       "        <td id=\"T_d32100d0_6bde_11e9_ac39_acde48001122row8_col3\" class=\"data row8 col3\" >0</td> \n",
       "        <td id=\"T_d32100d0_6bde_11e9_ac39_acde48001122row8_col4\" class=\"data row8 col4\" >1</td> \n",
       "        <td id=\"T_d32100d0_6bde_11e9_ac39_acde48001122row8_col5\" class=\"data row8 col5\" >1</td> \n",
       "        <td id=\"T_d32100d0_6bde_11e9_ac39_acde48001122row8_col6\" class=\"data row8 col6\" >1</td> \n",
       "        <td id=\"T_d32100d0_6bde_11e9_ac39_acde48001122row8_col7\" class=\"data row8 col7\" >10</td> \n",
       "    </tr>    <tr> \n",
       "        <th id=\"T_d32100d0_6bde_11e9_ac39_acde48001122level0_row9\" class=\"row_heading level0 row9\" >beds</th> \n",
       "        <td id=\"T_d32100d0_6bde_11e9_ac39_acde48001122row9_col0\" class=\"data row9 col0\" >3712</td> \n",
       "        <td id=\"T_d32100d0_6bde_11e9_ac39_acde48001122row9_col1\" class=\"data row9 col1\" >1.64332</td> \n",
       "        <td id=\"T_d32100d0_6bde_11e9_ac39_acde48001122row9_col2\" class=\"data row9 col2\" >1.18212</td> \n",
       "        <td id=\"T_d32100d0_6bde_11e9_ac39_acde48001122row9_col3\" class=\"data row9 col3\" >1</td> \n",
       "        <td id=\"T_d32100d0_6bde_11e9_ac39_acde48001122row9_col4\" class=\"data row9 col4\" >1</td> \n",
       "        <td id=\"T_d32100d0_6bde_11e9_ac39_acde48001122row9_col5\" class=\"data row9 col5\" >1</td> \n",
       "        <td id=\"T_d32100d0_6bde_11e9_ac39_acde48001122row9_col6\" class=\"data row9 col6\" >2</td> \n",
       "        <td id=\"T_d32100d0_6bde_11e9_ac39_acde48001122row9_col7\" class=\"data row9 col7\" >16</td> \n",
       "    </tr>    <tr> \n",
       "        <th id=\"T_d32100d0_6bde_11e9_ac39_acde48001122level0_row10\" class=\"row_heading level0 row10\" >square_feet</th> \n",
       "        <td id=\"T_d32100d0_6bde_11e9_ac39_acde48001122row10_col0\" class=\"data row10 col0\" >82</td> \n",
       "        <td id=\"T_d32100d0_6bde_11e9_ac39_acde48001122row10_col1\" class=\"data row10 col1\" >998.061</td> \n",
       "        <td id=\"T_d32100d0_6bde_11e9_ac39_acde48001122row10_col2\" class=\"data row10 col2\" >1065.64</td> \n",
       "        <td id=\"T_d32100d0_6bde_11e9_ac39_acde48001122row10_col3\" class=\"data row10 col3\" >0</td> \n",
       "        <td id=\"T_d32100d0_6bde_11e9_ac39_acde48001122row10_col4\" class=\"data row10 col4\" >556.25</td> \n",
       "        <td id=\"T_d32100d0_6bde_11e9_ac39_acde48001122row10_col5\" class=\"data row10 col5\" >755</td> \n",
       "        <td id=\"T_d32100d0_6bde_11e9_ac39_acde48001122row10_col6\" class=\"data row10 col6\" >1001.5</td> \n",
       "        <td id=\"T_d32100d0_6bde_11e9_ac39_acde48001122row10_col7\" class=\"data row10 col7\" >6000</td> \n",
       "    </tr>    <tr> \n",
       "        <th id=\"T_d32100d0_6bde_11e9_ac39_acde48001122level0_row11\" class=\"row_heading level0 row11\" >guests_included</th> \n",
       "        <td id=\"T_d32100d0_6bde_11e9_ac39_acde48001122row11_col0\" class=\"data row11 col0\" >3723</td> \n",
       "        <td id=\"T_d32100d0_6bde_11e9_ac39_acde48001122row11_col1\" class=\"data row11 col1\" >1.62208</td> \n",
       "        <td id=\"T_d32100d0_6bde_11e9_ac39_acde48001122row11_col2\" class=\"data row11 col2\" >1.3486</td> \n",
       "        <td id=\"T_d32100d0_6bde_11e9_ac39_acde48001122row11_col3\" class=\"data row11 col3\" >0</td> \n",
       "        <td id=\"T_d32100d0_6bde_11e9_ac39_acde48001122row11_col4\" class=\"data row11 col4\" >1</td> \n",
       "        <td id=\"T_d32100d0_6bde_11e9_ac39_acde48001122row11_col5\" class=\"data row11 col5\" >1</td> \n",
       "        <td id=\"T_d32100d0_6bde_11e9_ac39_acde48001122row11_col6\" class=\"data row11 col6\" >2</td> \n",
       "        <td id=\"T_d32100d0_6bde_11e9_ac39_acde48001122row11_col7\" class=\"data row11 col7\" >16</td> \n",
       "    </tr>    <tr> \n",
       "        <th id=\"T_d32100d0_6bde_11e9_ac39_acde48001122level0_row12\" class=\"row_heading level0 row12\" >minimum_nights</th> \n",
       "        <td id=\"T_d32100d0_6bde_11e9_ac39_acde48001122row12_col0\" class=\"data row12 col0\" >3723</td> \n",
       "        <td id=\"T_d32100d0_6bde_11e9_ac39_acde48001122row12_col1\" class=\"data row12 col1\" >2.25007</td> \n",
       "        <td id=\"T_d32100d0_6bde_11e9_ac39_acde48001122row12_col2\" class=\"data row12 col2\" >3.62288</td> \n",
       "        <td id=\"T_d32100d0_6bde_11e9_ac39_acde48001122row12_col3\" class=\"data row12 col3\" >1</td> \n",
       "        <td id=\"T_d32100d0_6bde_11e9_ac39_acde48001122row12_col4\" class=\"data row12 col4\" >1</td> \n",
       "        <td id=\"T_d32100d0_6bde_11e9_ac39_acde48001122row12_col5\" class=\"data row12 col5\" >2</td> \n",
       "        <td id=\"T_d32100d0_6bde_11e9_ac39_acde48001122row12_col6\" class=\"data row12 col6\" >3</td> \n",
       "        <td id=\"T_d32100d0_6bde_11e9_ac39_acde48001122row12_col7\" class=\"data row12 col7\" >180</td> \n",
       "    </tr>    <tr> \n",
       "        <th id=\"T_d32100d0_6bde_11e9_ac39_acde48001122level0_row13\" class=\"row_heading level0 row13\" >maximum_nights</th> \n",
       "        <td id=\"T_d32100d0_6bde_11e9_ac39_acde48001122row13_col0\" class=\"data row13 col0\" >3723</td> \n",
       "        <td id=\"T_d32100d0_6bde_11e9_ac39_acde48001122row13_col1\" class=\"data row13 col1\" >580307</td> \n",
       "        <td id=\"T_d32100d0_6bde_11e9_ac39_acde48001122row13_col2\" class=\"data row13 col2\" >3.51955e+07</td> \n",
       "        <td id=\"T_d32100d0_6bde_11e9_ac39_acde48001122row13_col3\" class=\"data row13 col3\" >1</td> \n",
       "        <td id=\"T_d32100d0_6bde_11e9_ac39_acde48001122row13_col4\" class=\"data row13 col4\" >120</td> \n",
       "        <td id=\"T_d32100d0_6bde_11e9_ac39_acde48001122row13_col5\" class=\"data row13 col5\" >1125</td> \n",
       "        <td id=\"T_d32100d0_6bde_11e9_ac39_acde48001122row13_col6\" class=\"data row13 col6\" >1125</td> \n",
       "        <td id=\"T_d32100d0_6bde_11e9_ac39_acde48001122row13_col7\" class=\"data row13 col7\" >2.14748e+09</td> \n",
       "    </tr>    <tr> \n",
       "        <th id=\"T_d32100d0_6bde_11e9_ac39_acde48001122level0_row14\" class=\"row_heading level0 row14\" >availability_30</th> \n",
       "        <td id=\"T_d32100d0_6bde_11e9_ac39_acde48001122row14_col0\" class=\"data row14 col0\" >3723</td> \n",
       "        <td id=\"T_d32100d0_6bde_11e9_ac39_acde48001122row14_col1\" class=\"data row14 col1\" >10.1741</td> \n",
       "        <td id=\"T_d32100d0_6bde_11e9_ac39_acde48001122row14_col2\" class=\"data row14 col2\" >10.5795</td> \n",
       "        <td id=\"T_d32100d0_6bde_11e9_ac39_acde48001122row14_col3\" class=\"data row14 col3\" >0</td> \n",
       "        <td id=\"T_d32100d0_6bde_11e9_ac39_acde48001122row14_col4\" class=\"data row14 col4\" >0</td> \n",
       "        <td id=\"T_d32100d0_6bde_11e9_ac39_acde48001122row14_col5\" class=\"data row14 col5\" >7</td> \n",
       "        <td id=\"T_d32100d0_6bde_11e9_ac39_acde48001122row14_col6\" class=\"data row14 col6\" >18</td> \n",
       "        <td id=\"T_d32100d0_6bde_11e9_ac39_acde48001122row14_col7\" class=\"data row14 col7\" >30</td> \n",
       "    </tr>    <tr> \n",
       "        <th id=\"T_d32100d0_6bde_11e9_ac39_acde48001122level0_row15\" class=\"row_heading level0 row15\" >availability_60</th> \n",
       "        <td id=\"T_d32100d0_6bde_11e9_ac39_acde48001122row15_col0\" class=\"data row15 col0\" >3723</td> \n",
       "        <td id=\"T_d32100d0_6bde_11e9_ac39_acde48001122row15_col1\" class=\"data row15 col1\" >26.4531</td> \n",
       "        <td id=\"T_d32100d0_6bde_11e9_ac39_acde48001122row15_col2\" class=\"data row15 col2\" >21.7766</td> \n",
       "        <td id=\"T_d32100d0_6bde_11e9_ac39_acde48001122row15_col3\" class=\"data row15 col3\" >0</td> \n",
       "        <td id=\"T_d32100d0_6bde_11e9_ac39_acde48001122row15_col4\" class=\"data row15 col4\" >1</td> \n",
       "        <td id=\"T_d32100d0_6bde_11e9_ac39_acde48001122row15_col5\" class=\"data row15 col5\" >27</td> \n",
       "        <td id=\"T_d32100d0_6bde_11e9_ac39_acde48001122row15_col6\" class=\"data row15 col6\" >46</td> \n",
       "        <td id=\"T_d32100d0_6bde_11e9_ac39_acde48001122row15_col7\" class=\"data row15 col7\" >60</td> \n",
       "    </tr>    <tr> \n",
       "        <th id=\"T_d32100d0_6bde_11e9_ac39_acde48001122level0_row16\" class=\"row_heading level0 row16\" >availability_90</th> \n",
       "        <td id=\"T_d32100d0_6bde_11e9_ac39_acde48001122row16_col0\" class=\"data row16 col0\" >3723</td> \n",
       "        <td id=\"T_d32100d0_6bde_11e9_ac39_acde48001122row16_col1\" class=\"data row16 col1\" >45.2861</td> \n",
       "        <td id=\"T_d32100d0_6bde_11e9_ac39_acde48001122row16_col2\" class=\"data row16 col2\" >32.8646</td> \n",
       "        <td id=\"T_d32100d0_6bde_11e9_ac39_acde48001122row16_col3\" class=\"data row16 col3\" >0</td> \n",
       "        <td id=\"T_d32100d0_6bde_11e9_ac39_acde48001122row16_col4\" class=\"data row16 col4\" >10</td> \n",
       "        <td id=\"T_d32100d0_6bde_11e9_ac39_acde48001122row16_col5\" class=\"data row16 col5\" >52</td> \n",
       "        <td id=\"T_d32100d0_6bde_11e9_ac39_acde48001122row16_col6\" class=\"data row16 col6\" >75</td> \n",
       "        <td id=\"T_d32100d0_6bde_11e9_ac39_acde48001122row16_col7\" class=\"data row16 col7\" >90</td> \n",
       "    </tr>    <tr> \n",
       "        <th id=\"T_d32100d0_6bde_11e9_ac39_acde48001122level0_row17\" class=\"row_heading level0 row17\" >availability_365</th> \n",
       "        <td id=\"T_d32100d0_6bde_11e9_ac39_acde48001122row17_col0\" class=\"data row17 col0\" >3723</td> \n",
       "        <td id=\"T_d32100d0_6bde_11e9_ac39_acde48001122row17_col1\" class=\"data row17 col1\" >235.702</td> \n",
       "        <td id=\"T_d32100d0_6bde_11e9_ac39_acde48001122row17_col2\" class=\"data row17 col2\" >129.304</td> \n",
       "        <td id=\"T_d32100d0_6bde_11e9_ac39_acde48001122row17_col3\" class=\"data row17 col3\" >0</td> \n",
       "        <td id=\"T_d32100d0_6bde_11e9_ac39_acde48001122row17_col4\" class=\"data row17 col4\" >104</td> \n",
       "        <td id=\"T_d32100d0_6bde_11e9_ac39_acde48001122row17_col5\" class=\"data row17 col5\" >297</td> \n",
       "        <td id=\"T_d32100d0_6bde_11e9_ac39_acde48001122row17_col6\" class=\"data row17 col6\" >346</td> \n",
       "        <td id=\"T_d32100d0_6bde_11e9_ac39_acde48001122row17_col7\" class=\"data row17 col7\" >365</td> \n",
       "    </tr>    <tr> \n",
       "        <th id=\"T_d32100d0_6bde_11e9_ac39_acde48001122level0_row18\" class=\"row_heading level0 row18\" >number_of_reviews</th> \n",
       "        <td id=\"T_d32100d0_6bde_11e9_ac39_acde48001122row18_col0\" class=\"data row18 col0\" >3723</td> \n",
       "        <td id=\"T_d32100d0_6bde_11e9_ac39_acde48001122row18_col1\" class=\"data row18 col1\" >15.3067</td> \n",
       "        <td id=\"T_d32100d0_6bde_11e9_ac39_acde48001122row18_col2\" class=\"data row18 col2\" >29.6456</td> \n",
       "        <td id=\"T_d32100d0_6bde_11e9_ac39_acde48001122row18_col3\" class=\"data row18 col3\" >0</td> \n",
       "        <td id=\"T_d32100d0_6bde_11e9_ac39_acde48001122row18_col4\" class=\"data row18 col4\" >1</td> \n",
       "        <td id=\"T_d32100d0_6bde_11e9_ac39_acde48001122row18_col5\" class=\"data row18 col5\" >4</td> \n",
       "        <td id=\"T_d32100d0_6bde_11e9_ac39_acde48001122row18_col6\" class=\"data row18 col6\" >16</td> \n",
       "        <td id=\"T_d32100d0_6bde_11e9_ac39_acde48001122row18_col7\" class=\"data row18 col7\" >362</td> \n",
       "    </tr>    <tr> \n",
       "        <th id=\"T_d32100d0_6bde_11e9_ac39_acde48001122level0_row19\" class=\"row_heading level0 row19\" >review_scores_rating</th> \n",
       "        <td id=\"T_d32100d0_6bde_11e9_ac39_acde48001122row19_col0\" class=\"data row19 col0\" >2855</td> \n",
       "        <td id=\"T_d32100d0_6bde_11e9_ac39_acde48001122row19_col1\" class=\"data row19 col1\" >93.4263</td> \n",
       "        <td id=\"T_d32100d0_6bde_11e9_ac39_acde48001122row19_col2\" class=\"data row19 col2\" >7.77311</td> \n",
       "        <td id=\"T_d32100d0_6bde_11e9_ac39_acde48001122row19_col3\" class=\"data row19 col3\" >30</td> \n",
       "        <td id=\"T_d32100d0_6bde_11e9_ac39_acde48001122row19_col4\" class=\"data row19 col4\" >90</td> \n",
       "        <td id=\"T_d32100d0_6bde_11e9_ac39_acde48001122row19_col5\" class=\"data row19 col5\" >95</td> \n",
       "        <td id=\"T_d32100d0_6bde_11e9_ac39_acde48001122row19_col6\" class=\"data row19 col6\" >100</td> \n",
       "        <td id=\"T_d32100d0_6bde_11e9_ac39_acde48001122row19_col7\" class=\"data row19 col7\" >100</td> \n",
       "    </tr>    <tr> \n",
       "        <th id=\"T_d32100d0_6bde_11e9_ac39_acde48001122level0_row20\" class=\"row_heading level0 row20\" >review_scores_accuracy</th> \n",
       "        <td id=\"T_d32100d0_6bde_11e9_ac39_acde48001122row20_col0\" class=\"data row20 col0\" >2848</td> \n",
       "        <td id=\"T_d32100d0_6bde_11e9_ac39_acde48001122row20_col1\" class=\"data row20 col1\" >9.54073</td> \n",
       "        <td id=\"T_d32100d0_6bde_11e9_ac39_acde48001122row20_col2\" class=\"data row20 col2\" >0.790103</td> \n",
       "        <td id=\"T_d32100d0_6bde_11e9_ac39_acde48001122row20_col3\" class=\"data row20 col3\" >2</td> \n",
       "        <td id=\"T_d32100d0_6bde_11e9_ac39_acde48001122row20_col4\" class=\"data row20 col4\" >9</td> \n",
       "        <td id=\"T_d32100d0_6bde_11e9_ac39_acde48001122row20_col5\" class=\"data row20 col5\" >10</td> \n",
       "        <td id=\"T_d32100d0_6bde_11e9_ac39_acde48001122row20_col6\" class=\"data row20 col6\" >10</td> \n",
       "        <td id=\"T_d32100d0_6bde_11e9_ac39_acde48001122row20_col7\" class=\"data row20 col7\" >10</td> \n",
       "    </tr>    <tr> \n",
       "        <th id=\"T_d32100d0_6bde_11e9_ac39_acde48001122level0_row21\" class=\"row_heading level0 row21\" >review_scores_cleanliness</th> \n",
       "        <td id=\"T_d32100d0_6bde_11e9_ac39_acde48001122row21_col0\" class=\"data row21 col0\" >2847</td> \n",
       "        <td id=\"T_d32100d0_6bde_11e9_ac39_acde48001122row21_col1\" class=\"data row21 col1\" >9.33087</td> \n",
       "        <td id=\"T_d32100d0_6bde_11e9_ac39_acde48001122row21_col2\" class=\"data row21 col2\" >1.05044</td> \n",
       "        <td id=\"T_d32100d0_6bde_11e9_ac39_acde48001122row21_col3\" class=\"data row21 col3\" >2</td> \n",
       "        <td id=\"T_d32100d0_6bde_11e9_ac39_acde48001122row21_col4\" class=\"data row21 col4\" >9</td> \n",
       "        <td id=\"T_d32100d0_6bde_11e9_ac39_acde48001122row21_col5\" class=\"data row21 col5\" >10</td> \n",
       "        <td id=\"T_d32100d0_6bde_11e9_ac39_acde48001122row21_col6\" class=\"data row21 col6\" >10</td> \n",
       "        <td id=\"T_d32100d0_6bde_11e9_ac39_acde48001122row21_col7\" class=\"data row21 col7\" >10</td> \n",
       "    </tr>    <tr> \n",
       "        <th id=\"T_d32100d0_6bde_11e9_ac39_acde48001122level0_row22\" class=\"row_heading level0 row22\" >review_scores_checkin</th> \n",
       "        <td id=\"T_d32100d0_6bde_11e9_ac39_acde48001122row22_col0\" class=\"data row22 col0\" >2847</td> \n",
       "        <td id=\"T_d32100d0_6bde_11e9_ac39_acde48001122row22_col1\" class=\"data row22 col1\" >9.71092</td> \n",
       "        <td id=\"T_d32100d0_6bde_11e9_ac39_acde48001122row22_col2\" class=\"data row22 col2\" >0.672492</td> \n",
       "        <td id=\"T_d32100d0_6bde_11e9_ac39_acde48001122row22_col3\" class=\"data row22 col3\" >2</td> \n",
       "        <td id=\"T_d32100d0_6bde_11e9_ac39_acde48001122row22_col4\" class=\"data row22 col4\" >10</td> \n",
       "        <td id=\"T_d32100d0_6bde_11e9_ac39_acde48001122row22_col5\" class=\"data row22 col5\" >10</td> \n",
       "        <td id=\"T_d32100d0_6bde_11e9_ac39_acde48001122row22_col6\" class=\"data row22 col6\" >10</td> \n",
       "        <td id=\"T_d32100d0_6bde_11e9_ac39_acde48001122row22_col7\" class=\"data row22 col7\" >10</td> \n",
       "    </tr>    <tr> \n",
       "        <th id=\"T_d32100d0_6bde_11e9_ac39_acde48001122level0_row23\" class=\"row_heading level0 row23\" >review_scores_communication</th> \n",
       "        <td id=\"T_d32100d0_6bde_11e9_ac39_acde48001122row23_col0\" class=\"data row23 col0\" >2851</td> \n",
       "        <td id=\"T_d32100d0_6bde_11e9_ac39_acde48001122row23_col1\" class=\"data row23 col1\" >9.75272</td> \n",
       "        <td id=\"T_d32100d0_6bde_11e9_ac39_acde48001122row23_col2\" class=\"data row23 col2\" >0.605433</td> \n",
       "        <td id=\"T_d32100d0_6bde_11e9_ac39_acde48001122row23_col3\" class=\"data row23 col3\" >3</td> \n",
       "        <td id=\"T_d32100d0_6bde_11e9_ac39_acde48001122row23_col4\" class=\"data row23 col4\" >10</td> \n",
       "        <td id=\"T_d32100d0_6bde_11e9_ac39_acde48001122row23_col5\" class=\"data row23 col5\" >10</td> \n",
       "        <td id=\"T_d32100d0_6bde_11e9_ac39_acde48001122row23_col6\" class=\"data row23 col6\" >10</td> \n",
       "        <td id=\"T_d32100d0_6bde_11e9_ac39_acde48001122row23_col7\" class=\"data row23 col7\" >10</td> \n",
       "    </tr>    <tr> \n",
       "        <th id=\"T_d32100d0_6bde_11e9_ac39_acde48001122level0_row24\" class=\"row_heading level0 row24\" >review_scores_location</th> \n",
       "        <td id=\"T_d32100d0_6bde_11e9_ac39_acde48001122row24_col0\" class=\"data row24 col0\" >2851</td> \n",
       "        <td id=\"T_d32100d0_6bde_11e9_ac39_acde48001122row24_col1\" class=\"data row24 col1\" >9.38618</td> \n",
       "        <td id=\"T_d32100d0_6bde_11e9_ac39_acde48001122row24_col2\" class=\"data row24 col2\" >0.890065</td> \n",
       "        <td id=\"T_d32100d0_6bde_11e9_ac39_acde48001122row24_col3\" class=\"data row24 col3\" >4</td> \n",
       "        <td id=\"T_d32100d0_6bde_11e9_ac39_acde48001122row24_col4\" class=\"data row24 col4\" >9</td> \n",
       "        <td id=\"T_d32100d0_6bde_11e9_ac39_acde48001122row24_col5\" class=\"data row24 col5\" >10</td> \n",
       "        <td id=\"T_d32100d0_6bde_11e9_ac39_acde48001122row24_col6\" class=\"data row24 col6\" >10</td> \n",
       "        <td id=\"T_d32100d0_6bde_11e9_ac39_acde48001122row24_col7\" class=\"data row24 col7\" >10</td> \n",
       "    </tr>    <tr> \n",
       "        <th id=\"T_d32100d0_6bde_11e9_ac39_acde48001122level0_row25\" class=\"row_heading level0 row25\" >review_scores_value</th> \n",
       "        <td id=\"T_d32100d0_6bde_11e9_ac39_acde48001122row25_col0\" class=\"data row25 col0\" >2851</td> \n",
       "        <td id=\"T_d32100d0_6bde_11e9_ac39_acde48001122row25_col1\" class=\"data row25 col1\" >9.3234</td> \n",
       "        <td id=\"T_d32100d0_6bde_11e9_ac39_acde48001122row25_col2\" class=\"data row25 col2\" >0.836415</td> \n",
       "        <td id=\"T_d32100d0_6bde_11e9_ac39_acde48001122row25_col3\" class=\"data row25 col3\" >2</td> \n",
       "        <td id=\"T_d32100d0_6bde_11e9_ac39_acde48001122row25_col4\" class=\"data row25 col4\" >9</td> \n",
       "        <td id=\"T_d32100d0_6bde_11e9_ac39_acde48001122row25_col5\" class=\"data row25 col5\" >9</td> \n",
       "        <td id=\"T_d32100d0_6bde_11e9_ac39_acde48001122row25_col6\" class=\"data row25 col6\" >10</td> \n",
       "        <td id=\"T_d32100d0_6bde_11e9_ac39_acde48001122row25_col7\" class=\"data row25 col7\" >10</td> \n",
       "    </tr></tbody> \n",
       "</table> "
      ],
      "text/plain": [
       "<pandas.io.formats.style.Styler at 0x1a1bea1c50>"
      ]
     },
     "execution_count": 13,
     "metadata": {},
     "output_type": "execute_result"
    }
   ],
   "source": [
    "#Describe all numric types \n",
    "airbnb_df.describe().T.style"
   ]
  },
  {
   "cell_type": "code",
   "execution_count": 15,
   "metadata": {
    "scrolled": true
   },
   "outputs": [
    {
     "data": {
      "text/html": [
       "<div>\n",
       "<style scoped>\n",
       "    .dataframe tbody tr th:only-of-type {\n",
       "        vertical-align: middle;\n",
       "    }\n",
       "\n",
       "    .dataframe tbody tr th {\n",
       "        vertical-align: top;\n",
       "    }\n",
       "\n",
       "    .dataframe thead th {\n",
       "        text-align: right;\n",
       "    }\n",
       "</style>\n",
       "<table border=\"1\" class=\"dataframe\">\n",
       "  <thead>\n",
       "    <tr style=\"text-align: right;\">\n",
       "      <th></th>\n",
       "      <th>name</th>\n",
       "      <th>summary</th>\n",
       "      <th>space</th>\n",
       "      <th>host_url</th>\n",
       "      <th>host_name</th>\n",
       "      <th>host_since</th>\n",
       "      <th>host_location</th>\n",
       "      <th>host_about</th>\n",
       "      <th>host_response_time</th>\n",
       "      <th>host_response_rate</th>\n",
       "      <th>...</th>\n",
       "      <th>weekly_price</th>\n",
       "      <th>monthly_price</th>\n",
       "      <th>security_deposit</th>\n",
       "      <th>cleaning_fee</th>\n",
       "      <th>extra_people</th>\n",
       "      <th>calendar_updated</th>\n",
       "      <th>has_availability</th>\n",
       "      <th>calendar_last_scraped</th>\n",
       "      <th>first_review</th>\n",
       "      <th>last_review</th>\n",
       "    </tr>\n",
       "  </thead>\n",
       "  <tbody>\n",
       "    <tr>\n",
       "      <th>count</th>\n",
       "      <td>3723</td>\n",
       "      <td>3457</td>\n",
       "      <td>2977</td>\n",
       "      <td>3723</td>\n",
       "      <td>3723</td>\n",
       "      <td>3723</td>\n",
       "      <td>3717</td>\n",
       "      <td>2763</td>\n",
       "      <td>3289</td>\n",
       "      <td>3289</td>\n",
       "      <td>...</td>\n",
       "      <td>2124</td>\n",
       "      <td>1807</td>\n",
       "      <td>1426</td>\n",
       "      <td>2335</td>\n",
       "      <td>3723</td>\n",
       "      <td>3723</td>\n",
       "      <td>3723</td>\n",
       "      <td>3723</td>\n",
       "      <td>2893</td>\n",
       "      <td>2893</td>\n",
       "    </tr>\n",
       "    <tr>\n",
       "      <th>unique</th>\n",
       "      <td>3693</td>\n",
       "      <td>3340</td>\n",
       "      <td>2884</td>\n",
       "      <td>2732</td>\n",
       "      <td>1549</td>\n",
       "      <td>1356</td>\n",
       "      <td>148</td>\n",
       "      <td>1904</td>\n",
       "      <td>4</td>\n",
       "      <td>60</td>\n",
       "      <td>...</td>\n",
       "      <td>439</td>\n",
       "      <td>447</td>\n",
       "      <td>58</td>\n",
       "      <td>86</td>\n",
       "      <td>48</td>\n",
       "      <td>38</td>\n",
       "      <td>1</td>\n",
       "      <td>2</td>\n",
       "      <td>924</td>\n",
       "      <td>336</td>\n",
       "    </tr>\n",
       "    <tr>\n",
       "      <th>top</th>\n",
       "      <td>The HUB at Capitol Hill</td>\n",
       "      <td>Sunny, renovated, and classy apartment in one ...</td>\n",
       "      <td>Metro Style Living in Washington DC This offer...</td>\n",
       "      <td>https://www.airbnb.com/users/show/25188</td>\n",
       "      <td>Seamless</td>\n",
       "      <td>7/10/09</td>\n",
       "      <td>Washington, District of Columbia, United States</td>\n",
       "      <td>ABOUT US:\\r\\n\\r\\nSeamlessTransition is a full-...</td>\n",
       "      <td>within an hour</td>\n",
       "      <td>100%</td>\n",
       "      <td>...</td>\n",
       "      <td>$600.00</td>\n",
       "      <td>$2,500.00</td>\n",
       "      <td>$100.00</td>\n",
       "      <td>$50.00</td>\n",
       "      <td>$0.00</td>\n",
       "      <td>today</td>\n",
       "      <td>t</td>\n",
       "      <td>10/3/15</td>\n",
       "      <td>9/21/15</td>\n",
       "      <td>9/21/15</td>\n",
       "    </tr>\n",
       "    <tr>\n",
       "      <th>freq</th>\n",
       "      <td>4</td>\n",
       "      <td>12</td>\n",
       "      <td>6</td>\n",
       "      <td>62</td>\n",
       "      <td>62</td>\n",
       "      <td>62</td>\n",
       "      <td>2835</td>\n",
       "      <td>62</td>\n",
       "      <td>1276</td>\n",
       "      <td>1850</td>\n",
       "      <td>...</td>\n",
       "      <td>115</td>\n",
       "      <td>60</td>\n",
       "      <td>278</td>\n",
       "      <td>301</td>\n",
       "      <td>2129</td>\n",
       "      <td>561</td>\n",
       "      <td>3723</td>\n",
       "      <td>2110</td>\n",
       "      <td>34</td>\n",
       "      <td>150</td>\n",
       "    </tr>\n",
       "  </tbody>\n",
       "</table>\n",
       "<p>4 rows × 38 columns</p>\n",
       "</div>"
      ],
      "text/plain": [
       "                           name  \\\n",
       "count                      3723   \n",
       "unique                     3693   \n",
       "top     The HUB at Capitol Hill   \n",
       "freq                          4   \n",
       "\n",
       "                                                  summary  \\\n",
       "count                                                3457   \n",
       "unique                                               3340   \n",
       "top     Sunny, renovated, and classy apartment in one ...   \n",
       "freq                                                   12   \n",
       "\n",
       "                                                    space  \\\n",
       "count                                                2977   \n",
       "unique                                               2884   \n",
       "top     Metro Style Living in Washington DC This offer...   \n",
       "freq                                                    6   \n",
       "\n",
       "                                       host_url host_name host_since  \\\n",
       "count                                      3723      3723       3723   \n",
       "unique                                     2732      1549       1356   \n",
       "top     https://www.airbnb.com/users/show/25188  Seamless    7/10/09   \n",
       "freq                                         62        62         62   \n",
       "\n",
       "                                          host_location  \\\n",
       "count                                              3717   \n",
       "unique                                              148   \n",
       "top     Washington, District of Columbia, United States   \n",
       "freq                                               2835   \n",
       "\n",
       "                                               host_about host_response_time  \\\n",
       "count                                                2763               3289   \n",
       "unique                                               1904                  4   \n",
       "top     ABOUT US:\\r\\n\\r\\nSeamlessTransition is a full-...     within an hour   \n",
       "freq                                                   62               1276   \n",
       "\n",
       "       host_response_rate     ...     weekly_price monthly_price  \\\n",
       "count                3289     ...             2124          1807   \n",
       "unique                 60     ...              439           447   \n",
       "top                  100%     ...         $600.00     $2,500.00    \n",
       "freq                 1850     ...              115            60   \n",
       "\n",
       "       security_deposit cleaning_fee extra_people calendar_updated  \\\n",
       "count              1426         2335         3723             3723   \n",
       "unique               58           86           48               38   \n",
       "top            $100.00       $50.00        $0.00             today   \n",
       "freq                278          301         2129              561   \n",
       "\n",
       "       has_availability calendar_last_scraped first_review last_review  \n",
       "count              3723                  3723         2893        2893  \n",
       "unique                1                     2          924         336  \n",
       "top                   t               10/3/15      9/21/15     9/21/15  \n",
       "freq               3723                  2110           34         150  \n",
       "\n",
       "[4 rows x 38 columns]"
      ]
     },
     "execution_count": 15,
     "metadata": {},
     "output_type": "execute_result"
    }
   ],
   "source": [
    "# Describe all object columns (can include multiple types).\n",
    "airbnb_df.describe(include=['object'])"
   ]
  },
  {
   "cell_type": "code",
   "execution_count": 17,
   "metadata": {
    "scrolled": true
   },
   "outputs": [
    {
     "data": {
      "text/plain": [
       "count           3723\n",
       "unique            16\n",
       "top       Washington\n",
       "freq            3628\n",
       "Name: city, dtype: object"
      ]
     },
     "execution_count": 17,
     "metadata": {},
     "output_type": "execute_result"
    }
   ],
   "source": [
    "# Describe the room_type \n",
    "airbnb_df['city'].describe()"
   ]
  },
  {
   "cell_type": "code",
   "execution_count": 19,
   "metadata": {
    "scrolled": true
   },
   "outputs": [
    {
     "data": {
      "text/plain": [
       "0            Washington\n",
       "1            Washington\n",
       "2           Hyattsville\n",
       "3            Washington\n",
       "4         Silver Spring\n",
       "5            Washington\n",
       "6            Washington\n",
       "7         Mount Rainier\n",
       "8       Capitol Heights\n",
       "9           Takoma Park\n",
       "10          Takoma Park\n",
       "11        Silver Spring\n",
       "12        Silver Spring\n",
       "13        Silver Spring\n",
       "14          Takoma Park\n",
       "15        Mount Rainier\n",
       "16          Hyattsville\n",
       "17        Silver Spring\n",
       "18        Mount Rainier\n",
       "19          Takoma Park\n",
       "20        Mount Rainier\n",
       "21          Takoma Park\n",
       "22          Takoma Park\n",
       "23           Washington\n",
       "24           Washington\n",
       "25           Washington\n",
       "26           Washington\n",
       "27           Washington\n",
       "28           Washington\n",
       "29           Washington\n",
       "             ...       \n",
       "3693         Washington\n",
       "3694         Washington\n",
       "3695         Washington\n",
       "3696         Washington\n",
       "3697         Washington\n",
       "3698         Washington\n",
       "3699         Washington\n",
       "3700         Washington\n",
       "3701         Washington\n",
       "3702         Washington\n",
       "3703         Washington\n",
       "3704         Washington\n",
       "3705         Washington\n",
       "3706         Washington\n",
       "3707         Washington\n",
       "3708         Washington\n",
       "3709         Washington\n",
       "3710         Washington\n",
       "3711         Washington\n",
       "3712         Washington\n",
       "3713         Washington\n",
       "3714         Washington\n",
       "3715         Washington\n",
       "3716         Washington\n",
       "3717         Washington\n",
       "3718         Washington\n",
       "3719         Washington\n",
       "3720         Washington\n",
       "3721         Washington\n",
       "3722         Washington\n",
       "Name: city, Length: 3723, dtype: object"
      ]
     },
     "execution_count": 19,
     "metadata": {},
     "output_type": "execute_result"
    }
   ],
   "source": [
    "airbnb_df['city']"
   ]
  },
  {
   "cell_type": "code",
   "execution_count": 21,
   "metadata": {
    "scrolled": true
   },
   "outputs": [
    {
     "data": {
      "text/plain": [
       "count             3461\n",
       "unique             131\n",
       "top       Capitol Hill\n",
       "freq               300\n",
       "Name: host_neighbourhood, dtype: object"
      ]
     },
     "execution_count": 21,
     "metadata": {},
     "output_type": "execute_result"
    }
   ],
   "source": [
    "airbnb_df['host_neighbourhood'].describe()"
   ]
  },
  {
   "cell_type": "code",
   "execution_count": 23,
   "metadata": {},
   "outputs": [
    {
     "data": {
      "text/plain": [
       "property_type                     1\n",
       "host_location                     6\n",
       "zipcode                           9\n",
       "beds                             11\n",
       "bedrooms                         21\n",
       "bathrooms                        27\n",
       "host_neighbourhood              262\n",
       "summary                         266\n",
       "neighbourhood                   353\n",
       "host_response_rate              434\n",
       "host_response_time              434\n",
       "host_acceptance_rate            614\n",
       "space                           746\n",
       "last_review                     830\n",
       "first_review                    830\n",
       "review_scores_rating            868\n",
       "review_scores_communication     872\n",
       "review_scores_value             872\n",
       "review_scores_location          872\n",
       "review_scores_accuracy          875\n",
       "review_scores_cleanliness       876\n",
       "review_scores_checkin           876\n",
       "host_about                      960\n",
       "cleaning_fee                   1388\n",
       "weekly_price                   1599\n",
       "monthly_price                  1916\n",
       "security_deposit               2297\n",
       "square_feet                    3641\n",
       "dtype: int64"
      ]
     },
     "execution_count": 23,
     "metadata": {},
     "output_type": "execute_result"
    }
   ],
   "source": [
    "# check NAN fields \n",
    "airbnb_df.isnull().sum()[airbnb_df.isnull().sum() != 0].sort_values(ascending = True)"
   ]
  },
  {
   "cell_type": "markdown",
   "metadata": {},
   "source": [
    "## Step 1: Data Set Preparation (Cleaning DataSet) \n",
    "\n",
    "●\tReview for possible duplicates and erroneous data.\n",
    "\n",
    "○ Remove listings without any reviews and possible duplicate rows where the bot may have re-recorded listing data.\n",
    "    \n",
    "○ The “id” (col A) is the ID you should use to look for possible duplicates. The “host_id” column is the ID of the host, but hosts can have more than one listing.\n",
    "\n",
    "**As we examine our Airbnb data set, we see our data not cleaned to do our analytics. Now, accoroding to the project's prompts.**\n",
    "\n",
    "### Cleaning data as the following:\n",
    "\n",
    "``1. Execlude rows with city='Washington'`` \n",
    "\n",
    "``2. Delete the rows with no number of reviews``\n",
    "\n",
    "``3. Reformate price column with float Dtype`` \n",
    "\n",
    "``4. Delete any duplicate of the 'id' rows ``"
   ]
  },
  {
   "cell_type": "code",
   "execution_count": 3,
   "metadata": {},
   "outputs": [],
   "source": [
    "# 1. include only Washington city. \n",
    "airbnb_df = airbnb_df[airbnb_df['city']== 'Washington']"
   ]
  },
  {
   "cell_type": "code",
   "execution_count": 4,
   "metadata": {},
   "outputs": [
    {
     "data": {
      "text/plain": [
       "Washington    3628\n",
       "Name: city, dtype: int64"
      ]
     },
     "execution_count": 4,
     "metadata": {},
     "output_type": "execute_result"
    }
   ],
   "source": [
    "# count the number of rows in city = Washington\n",
    "airbnb_df['city'].value_counts()"
   ]
  },
  {
   "cell_type": "code",
   "execution_count": null,
   "metadata": {},
   "outputs": [],
   "source": []
  },
  {
   "cell_type": "code",
   "execution_count": null,
   "metadata": {},
   "outputs": [],
   "source": []
  },
  {
   "cell_type": "code",
   "execution_count": 5,
   "metadata": {},
   "outputs": [
    {
     "name": "stdout",
     "output_type": "stream",
     "text": [
      "Rows brfore remove:  3628\n"
     ]
    }
   ],
   "source": [
    "\n",
    "# 2. Delete the rows with no number of reviews\n",
    "\n",
    "# number of rows before delete rows with no reviews. \n",
    "rows = airbnb_df['number_of_reviews'].value_counts().sum()\n",
    "\n",
    "print ('Rows brfore remove: ', rows)"
   ]
  },
  {
   "cell_type": "code",
   "execution_count": null,
   "metadata": {},
   "outputs": [],
   "source": []
  },
  {
   "cell_type": "code",
   "execution_count": null,
   "metadata": {},
   "outputs": [],
   "source": []
  },
  {
   "cell_type": "code",
   "execution_count": 6,
   "metadata": {},
   "outputs": [],
   "source": [
    "# remove all rows with no number of reviews by importing all rows with non zero of 'number_of_reviews'\n",
    "airbnb_df= airbnb_df[airbnb_df['number_of_reviews'] !=0]"
   ]
  },
  {
   "cell_type": "code",
   "execution_count": null,
   "metadata": {},
   "outputs": [],
   "source": []
  },
  {
   "cell_type": "code",
   "execution_count": null,
   "metadata": {},
   "outputs": [],
   "source": []
  },
  {
   "cell_type": "code",
   "execution_count": 7,
   "metadata": {},
   "outputs": [
    {
     "name": "stdout",
     "output_type": "stream",
     "text": [
      "Rows after remove:  2820\n"
     ]
    }
   ],
   "source": [
    "print ('Rows after remove: ',airbnb_df['number_of_reviews'].value_counts().sum())"
   ]
  },
  {
   "cell_type": "code",
   "execution_count": null,
   "metadata": {},
   "outputs": [],
   "source": []
  },
  {
   "cell_type": "code",
   "execution_count": null,
   "metadata": {},
   "outputs": [],
   "source": []
  },
  {
   "cell_type": "code",
   "execution_count": 8,
   "metadata": {},
   "outputs": [
    {
     "data": {
      "text/plain": [
       "1     65\n",
       "23    46\n",
       "24    84\n",
       "25    25\n",
       "26     4\n",
       "27     2\n",
       "28    83\n",
       "29    19\n",
       "30    94\n",
       "31    47\n",
       "Name: number_of_reviews, dtype: int64"
      ]
     },
     "execution_count": 8,
     "metadata": {},
     "output_type": "execute_result"
    }
   ],
   "source": [
    "airbnb_df['number_of_reviews'].head(10)"
   ]
  },
  {
   "cell_type": "code",
   "execution_count": null,
   "metadata": {},
   "outputs": [],
   "source": []
  },
  {
   "cell_type": "code",
   "execution_count": null,
   "metadata": {},
   "outputs": [],
   "source": []
  },
  {
   "cell_type": "code",
   "execution_count": 9,
   "metadata": {},
   "outputs": [
    {
     "data": {
      "text/plain": [
       "1     $350.00 \n",
       "23    $149.00 \n",
       "24    $150.00 \n",
       "25    $175.00 \n",
       "26    $239.00 \n",
       "Name: price, dtype: object"
      ]
     },
     "execution_count": 9,
     "metadata": {},
     "output_type": "execute_result"
    }
   ],
   "source": [
    "# 3. Reformate price column with float Dtype\n",
    "\n",
    "# price with dollar foramtting\n",
    "airbnb_df['price'].head()"
   ]
  },
  {
   "cell_type": "code",
   "execution_count": null,
   "metadata": {},
   "outputs": [],
   "source": []
  },
  {
   "cell_type": "code",
   "execution_count": null,
   "metadata": {},
   "outputs": [],
   "source": []
  },
  {
   "cell_type": "code",
   "execution_count": 10,
   "metadata": {},
   "outputs": [],
   "source": [
    "# reformate price function\n",
    "def dollar_to_float(value):\n",
    "    try:\n",
    "        return float(value.strip('$').strip(','))\n",
    "    \n",
    "    except:\n",
    "        return np.nan\n",
    "    "
   ]
  },
  {
   "cell_type": "code",
   "execution_count": null,
   "metadata": {},
   "outputs": [],
   "source": []
  },
  {
   "cell_type": "code",
   "execution_count": null,
   "metadata": {},
   "outputs": [],
   "source": []
  },
  {
   "cell_type": "code",
   "execution_count": 11,
   "metadata": {},
   "outputs": [],
   "source": [
    "# using dollar_to_float function to remformate price col. \n",
    "airbnb_df['price'] = airbnb_df['price'].apply(dollar_to_float)"
   ]
  },
  {
   "cell_type": "code",
   "execution_count": null,
   "metadata": {},
   "outputs": [],
   "source": []
  },
  {
   "cell_type": "code",
   "execution_count": null,
   "metadata": {},
   "outputs": [],
   "source": []
  },
  {
   "cell_type": "code",
   "execution_count": 12,
   "metadata": {},
   "outputs": [
    {
     "data": {
      "text/plain": [
       "1     350.0\n",
       "23    149.0\n",
       "24    150.0\n",
       "25    175.0\n",
       "26    239.0\n",
       "Name: price, dtype: float64"
      ]
     },
     "execution_count": 12,
     "metadata": {},
     "output_type": "execute_result"
    }
   ],
   "source": [
    "# check the result\n",
    "airbnb_df['price'].head()"
   ]
  },
  {
   "cell_type": "code",
   "execution_count": null,
   "metadata": {},
   "outputs": [],
   "source": []
  },
  {
   "cell_type": "code",
   "execution_count": null,
   "metadata": {},
   "outputs": [],
   "source": []
  },
  {
   "cell_type": "code",
   "execution_count": 13,
   "metadata": {},
   "outputs": [
    {
     "name": "stdout",
     "output_type": "stream",
     "text": [
      "number of rows before duplicates:  2820\n"
     ]
    }
   ],
   "source": [
    "# 4. Delete any duplicate of the 'id' rows\n",
    "\n",
    "# number of  rows before duplicates.\n",
    "drows = airbnb_df['id'].value_counts().sum()\n",
    "print ('number of rows before duplicates: ',drows)"
   ]
  },
  {
   "cell_type": "code",
   "execution_count": null,
   "metadata": {},
   "outputs": [],
   "source": []
  },
  {
   "cell_type": "code",
   "execution_count": null,
   "metadata": {},
   "outputs": [],
   "source": []
  },
  {
   "cell_type": "code",
   "execution_count": 14,
   "metadata": {},
   "outputs": [],
   "source": [
    "# remove the duplicated of 'id'\n",
    "airbnb_df['id'] = airbnb_df['id'].drop_duplicates(keep='first',inplace=False)"
   ]
  },
  {
   "cell_type": "code",
   "execution_count": null,
   "metadata": {},
   "outputs": [],
   "source": []
  },
  {
   "cell_type": "code",
   "execution_count": null,
   "metadata": {},
   "outputs": [],
   "source": []
  },
  {
   "cell_type": "code",
   "execution_count": 15,
   "metadata": {},
   "outputs": [
    {
     "name": "stdout",
     "output_type": "stream",
     "text": [
      "number of rows before duplicates:  2820\n"
     ]
    }
   ],
   "source": [
    "# number of  rows after duplicates.\n",
    "NoDrows = airbnb_df['id'].value_counts().sum()\n",
    "print ('number of rows before duplicates: ',NoDrows)"
   ]
  },
  {
   "cell_type": "code",
   "execution_count": null,
   "metadata": {},
   "outputs": [],
   "source": []
  },
  {
   "cell_type": "code",
   "execution_count": null,
   "metadata": {},
   "outputs": [],
   "source": []
  },
  {
   "cell_type": "code",
   "execution_count": 16,
   "metadata": {},
   "outputs": [
    {
     "data": {
      "text/plain": [
       "0"
      ]
     },
     "execution_count": 16,
     "metadata": {},
     "output_type": "execute_result"
    }
   ],
   "source": [
    "# another way to check the duplicated of 'id'\n",
    "airbnb_df['id'].duplicated().sum()"
   ]
  },
  {
   "cell_type": "code",
   "execution_count": null,
   "metadata": {},
   "outputs": [],
   "source": []
  },
  {
   "cell_type": "code",
   "execution_count": null,
   "metadata": {},
   "outputs": [],
   "source": []
  },
  {
   "cell_type": "markdown",
   "metadata": {},
   "source": [
    "__As a result there is no duplicated rows__"
   ]
  },
  {
   "attachments": {},
   "cell_type": "markdown",
   "metadata": {},
   "source": [
    "\n",
    "## PROJECT STEP 2: DATA EXPLORATION AND ANALYSIS \n",
    "\n",
    "### PROMPT 1: How much revenue do successful hosts make?\n",
    "\n",
    "  >  Revenue per listing \n",
    "\n",
    "To answer this question we have to do the following: \n",
    "\n",
    "``1. Calculate a proxy number of stays for each listing by assuming that 50 percent of customers who stayed left a review. ``\n",
    "\n",
    "``2. Calculate estimated daily revenue for two guests.`` \n",
    "\n",
    "``3. Multiply the estimated daily revenue by the minimum number of nights.``\n",
    "\n",
    "``4. Calculate an estimated_total_revenue for each listing.``\n",
    "\n",
    "``5. Using groupby/pivot to quickly explore the data at a high-level.\n",
    "\n",
    "columns that we dealing with our calculation:\n",
    ">  [ price, guests_included, extra_people, accommodates ]\n"
   ]
  },
  {
   "cell_type": "code",
   "execution_count": null,
   "metadata": {},
   "outputs": [],
   "source": []
  },
  {
   "cell_type": "code",
   "execution_count": null,
   "metadata": {},
   "outputs": [],
   "source": []
  },
  {
   "cell_type": "code",
   "execution_count": 18,
   "metadata": {},
   "outputs": [],
   "source": [
    "# 1. find the number of Stays for each listing by assuming\n",
    "#    50%  of customers who stayed left a review"
   ]
  },
  {
   "cell_type": "code",
   "execution_count": null,
   "metadata": {},
   "outputs": [],
   "source": []
  },
  {
   "cell_type": "code",
   "execution_count": 17,
   "metadata": {},
   "outputs": [],
   "source": [
    "# function to get number of Stays for eaching listing by assuming 50% of gusets stary who left review \n",
    "def NoOfStays(value):\n",
    "    return int(value * 2)"
   ]
  },
  {
   "cell_type": "code",
   "execution_count": null,
   "metadata": {},
   "outputs": [],
   "source": []
  },
  {
   "cell_type": "code",
   "execution_count": null,
   "metadata": {},
   "outputs": [],
   "source": []
  },
  {
   "cell_type": "code",
   "execution_count": 18,
   "metadata": {},
   "outputs": [],
   "source": [
    "airbnb_df['Stays'] = airbnb_df['number_of_reviews'].apply(NoOfStays)"
   ]
  },
  {
   "cell_type": "code",
   "execution_count": null,
   "metadata": {},
   "outputs": [],
   "source": []
  },
  {
   "cell_type": "code",
   "execution_count": null,
   "metadata": {},
   "outputs": [],
   "source": []
  },
  {
   "cell_type": "code",
   "execution_count": 19,
   "metadata": {},
   "outputs": [
    {
     "data": {
      "text/plain": [
       "1     130\n",
       "23     92\n",
       "24    168\n",
       "25     50\n",
       "26      8\n",
       "Name: Stays, dtype: int64"
      ]
     },
     "execution_count": 19,
     "metadata": {},
     "output_type": "execute_result"
    }
   ],
   "source": [
    "airbnb_df['Stays'].head()"
   ]
  },
  {
   "cell_type": "code",
   "execution_count": null,
   "metadata": {},
   "outputs": [],
   "source": []
  },
  {
   "cell_type": "code",
   "execution_count": null,
   "metadata": {},
   "outputs": [],
   "source": []
  },
  {
   "cell_type": "code",
   "execution_count": 20,
   "metadata": {},
   "outputs": [
    {
     "data": {
      "text/plain": [
       "1      $0.00 \n",
       "23    $99.00 \n",
       "24    $20.00 \n",
       "25    $25.00 \n",
       "26     $0.00 \n",
       "Name: extra_people, dtype: object"
      ]
     },
     "execution_count": 20,
     "metadata": {},
     "output_type": "execute_result"
    }
   ],
   "source": [
    "# 2. Calculate estimated daily revenue for two guests\n",
    "\n",
    "\n",
    "# check the formate of extra_people\n",
    "airbnb_df['extra_people'].head()"
   ]
  },
  {
   "cell_type": "code",
   "execution_count": null,
   "metadata": {},
   "outputs": [],
   "source": []
  },
  {
   "cell_type": "code",
   "execution_count": null,
   "metadata": {},
   "outputs": [],
   "source": []
  },
  {
   "cell_type": "markdown",
   "metadata": {},
   "source": [
    "As a results, the formate of extra_people neeed to reformating using the following:"
   ]
  },
  {
   "cell_type": "code",
   "execution_count": 21,
   "metadata": {},
   "outputs": [],
   "source": [
    "# using pandas filtering method to extract $ from vlaue of extra_people to do our calculation to get \n",
    "# estimated_daily_revenue\n",
    "airbnb_df['extra_people'] = airbnb_df['extra_people'].str.extract('(\\d+)')"
   ]
  },
  {
   "cell_type": "code",
   "execution_count": null,
   "metadata": {},
   "outputs": [],
   "source": []
  },
  {
   "cell_type": "code",
   "execution_count": null,
   "metadata": {},
   "outputs": [],
   "source": []
  },
  {
   "cell_type": "code",
   "execution_count": 22,
   "metadata": {},
   "outputs": [],
   "source": [
    "airbnb_df['extra_people'] = airbnb_df['extra_people'].map(lambda x : float(x))"
   ]
  },
  {
   "cell_type": "code",
   "execution_count": null,
   "metadata": {},
   "outputs": [],
   "source": []
  },
  {
   "cell_type": "code",
   "execution_count": null,
   "metadata": {},
   "outputs": [],
   "source": []
  },
  {
   "cell_type": "code",
   "execution_count": 23,
   "metadata": {},
   "outputs": [
    {
     "data": {
      "text/plain": [
       "1      0.0\n",
       "23    99.0\n",
       "24    20.0\n",
       "25    25.0\n",
       "26     0.0\n",
       "Name: extra_people, dtype: float64"
      ]
     },
     "execution_count": 23,
     "metadata": {},
     "output_type": "execute_result"
    }
   ],
   "source": [
    "# check the formate of extra_people after applying the reformatting \n",
    "airbnb_df['extra_people'].head()"
   ]
  },
  {
   "cell_type": "code",
   "execution_count": null,
   "metadata": {},
   "outputs": [],
   "source": []
  },
  {
   "cell_type": "code",
   "execution_count": null,
   "metadata": {},
   "outputs": [],
   "source": []
  },
  {
   "cell_type": "code",
   "execution_count": 24,
   "metadata": {},
   "outputs": [],
   "source": [
    "# add new columns for daily revenue \n",
    "airbnb_df['daily_revenue'] = airbnb_df['price']"
   ]
  },
  {
   "cell_type": "code",
   "execution_count": null,
   "metadata": {},
   "outputs": [],
   "source": []
  },
  {
   "cell_type": "code",
   "execution_count": null,
   "metadata": {},
   "outputs": [],
   "source": []
  },
  {
   "cell_type": "code",
   "execution_count": 25,
   "metadata": {},
   "outputs": [],
   "source": [
    "# function to calculate the estimated daily revenue\n",
    "def estimated_daily_revenue(row):\n",
    "    if row['guests_included'] > 1:\n",
    "        return row['daily_revenue']\n",
    "    elif row['guests_included'] == 1 and row['accommodates'] == 1:\n",
    "        return row['daily_revenue']\n",
    "    elif row['guests_included'] == 1 and row['accommodates'] > 1:\n",
    "        return row['daily_revenue'] + row['extra_people']\n",
    "    else :\n",
    "        row['daily_revenue'] = None # this condition if there is 0 \n",
    "        return row['daily_revenue']\n",
    "  "
   ]
  },
  {
   "cell_type": "code",
   "execution_count": null,
   "metadata": {},
   "outputs": [],
   "source": []
  },
  {
   "cell_type": "code",
   "execution_count": null,
   "metadata": {},
   "outputs": [],
   "source": []
  },
  {
   "cell_type": "code",
   "execution_count": 26,
   "metadata": {},
   "outputs": [],
   "source": [
    "# apply our calculation for EDR (estimated daily revenue )\n",
    "EDR = airbnb_df.apply(estimated_daily_revenue,axis=1)"
   ]
  },
  {
   "cell_type": "code",
   "execution_count": null,
   "metadata": {},
   "outputs": [],
   "source": []
  },
  {
   "cell_type": "code",
   "execution_count": null,
   "metadata": {},
   "outputs": [],
   "source": []
  },
  {
   "cell_type": "code",
   "execution_count": 27,
   "metadata": {},
   "outputs": [
    {
     "data": {
      "text/plain": [
       "1     350.0\n",
       "23    149.0\n",
       "24    150.0\n",
       "25    175.0\n",
       "26    239.0\n",
       "27     65.0\n",
       "28     71.0\n",
       "29     80.0\n",
       "30    250.0\n",
       "31    158.0\n",
       "dtype: float64"
      ]
     },
     "execution_count": 27,
     "metadata": {},
     "output_type": "execute_result"
    }
   ],
   "source": [
    "# figure out the estimated daily revenue\n",
    "EDR.head(10)"
   ]
  },
  {
   "cell_type": "code",
   "execution_count": null,
   "metadata": {},
   "outputs": [],
   "source": []
  },
  {
   "cell_type": "code",
   "execution_count": null,
   "metadata": {},
   "outputs": [],
   "source": []
  },
  {
   "cell_type": "code",
   "execution_count": 28,
   "metadata": {},
   "outputs": [],
   "source": [
    "#3. Multiply the estimated daily revenue by the minimum number of nights !\n",
    "#Estimated_rev_per_booking\n",
    "airbnb_df['revenue_per_night'] = airbnb_df['daily_revenue'] * airbnb_df['minimum_nights']"
   ]
  },
  {
   "cell_type": "code",
   "execution_count": null,
   "metadata": {},
   "outputs": [],
   "source": []
  },
  {
   "cell_type": "code",
   "execution_count": 29,
   "metadata": {},
   "outputs": [
    {
     "data": {
      "text/plain": [
       "1      700.0\n",
       "23     447.0\n",
       "24     300.0\n",
       "25     175.0\n",
       "26    1195.0\n",
       "27     130.0\n",
       "28     142.0\n",
       "29      80.0\n",
       "30     250.0\n",
       "31     138.0\n",
       "Name: revenue_per_night, dtype: float64"
      ]
     },
     "execution_count": 29,
     "metadata": {},
     "output_type": "execute_result"
    }
   ],
   "source": [
    "airbnb_df['revenue_per_night'].head(10)"
   ]
  },
  {
   "cell_type": "code",
   "execution_count": 31,
   "metadata": {},
   "outputs": [],
   "source": [
    "# 4. Calculate an estimated_total_revenue for each listing!\n",
    "# calculate the total ER (estimated revenue )\n",
    "airbnb_df['estimated_total_revenue']= airbnb_df['revenue_per_night'] * airbnb_df['Stays']"
   ]
  },
  {
   "cell_type": "code",
   "execution_count": 35,
   "metadata": {},
   "outputs": [
    {
     "data": {
      "text/html": [
       "<div>\n",
       "<style scoped>\n",
       "    .dataframe tbody tr th:only-of-type {\n",
       "        vertical-align: middle;\n",
       "    }\n",
       "\n",
       "    .dataframe tbody tr th {\n",
       "        vertical-align: top;\n",
       "    }\n",
       "\n",
       "    .dataframe thead th {\n",
       "        text-align: right;\n",
       "    }\n",
       "</style>\n",
       "<table border=\"1\" class=\"dataframe\">\n",
       "  <thead>\n",
       "    <tr style=\"text-align: right;\">\n",
       "      <th></th>\n",
       "      <th>Stays</th>\n",
       "      <th>daily_revenue</th>\n",
       "      <th>minimum_nights</th>\n",
       "      <th>revenue_per_night</th>\n",
       "      <th>estimated_total_revenue</th>\n",
       "    </tr>\n",
       "  </thead>\n",
       "  <tbody>\n",
       "    <tr>\n",
       "      <th>1</th>\n",
       "      <td>130</td>\n",
       "      <td>350.0</td>\n",
       "      <td>2</td>\n",
       "      <td>700.0</td>\n",
       "      <td>91000.0</td>\n",
       "    </tr>\n",
       "    <tr>\n",
       "      <th>23</th>\n",
       "      <td>92</td>\n",
       "      <td>149.0</td>\n",
       "      <td>3</td>\n",
       "      <td>447.0</td>\n",
       "      <td>41124.0</td>\n",
       "    </tr>\n",
       "    <tr>\n",
       "      <th>24</th>\n",
       "      <td>168</td>\n",
       "      <td>150.0</td>\n",
       "      <td>2</td>\n",
       "      <td>300.0</td>\n",
       "      <td>50400.0</td>\n",
       "    </tr>\n",
       "    <tr>\n",
       "      <th>25</th>\n",
       "      <td>50</td>\n",
       "      <td>175.0</td>\n",
       "      <td>1</td>\n",
       "      <td>175.0</td>\n",
       "      <td>8750.0</td>\n",
       "    </tr>\n",
       "    <tr>\n",
       "      <th>26</th>\n",
       "      <td>8</td>\n",
       "      <td>239.0</td>\n",
       "      <td>5</td>\n",
       "      <td>1195.0</td>\n",
       "      <td>9560.0</td>\n",
       "    </tr>\n",
       "    <tr>\n",
       "      <th>27</th>\n",
       "      <td>4</td>\n",
       "      <td>65.0</td>\n",
       "      <td>2</td>\n",
       "      <td>130.0</td>\n",
       "      <td>520.0</td>\n",
       "    </tr>\n",
       "    <tr>\n",
       "      <th>28</th>\n",
       "      <td>166</td>\n",
       "      <td>71.0</td>\n",
       "      <td>2</td>\n",
       "      <td>142.0</td>\n",
       "      <td>23572.0</td>\n",
       "    </tr>\n",
       "    <tr>\n",
       "      <th>29</th>\n",
       "      <td>38</td>\n",
       "      <td>80.0</td>\n",
       "      <td>1</td>\n",
       "      <td>80.0</td>\n",
       "      <td>3040.0</td>\n",
       "    </tr>\n",
       "    <tr>\n",
       "      <th>30</th>\n",
       "      <td>188</td>\n",
       "      <td>250.0</td>\n",
       "      <td>1</td>\n",
       "      <td>250.0</td>\n",
       "      <td>47000.0</td>\n",
       "    </tr>\n",
       "    <tr>\n",
       "      <th>31</th>\n",
       "      <td>94</td>\n",
       "      <td>138.0</td>\n",
       "      <td>1</td>\n",
       "      <td>138.0</td>\n",
       "      <td>12972.0</td>\n",
       "    </tr>\n",
       "  </tbody>\n",
       "</table>\n",
       "</div>"
      ],
      "text/plain": [
       "    Stays  daily_revenue  minimum_nights  revenue_per_night  \\\n",
       "1     130          350.0               2              700.0   \n",
       "23     92          149.0               3              447.0   \n",
       "24    168          150.0               2              300.0   \n",
       "25     50          175.0               1              175.0   \n",
       "26      8          239.0               5             1195.0   \n",
       "27      4           65.0               2              130.0   \n",
       "28    166           71.0               2              142.0   \n",
       "29     38           80.0               1               80.0   \n",
       "30    188          250.0               1              250.0   \n",
       "31     94          138.0               1              138.0   \n",
       "\n",
       "    estimated_total_revenue  \n",
       "1                   91000.0  \n",
       "23                  41124.0  \n",
       "24                  50400.0  \n",
       "25                   8750.0  \n",
       "26                   9560.0  \n",
       "27                    520.0  \n",
       "28                  23572.0  \n",
       "29                   3040.0  \n",
       "30                  47000.0  \n",
       "31                  12972.0  "
      ]
     },
     "execution_count": 35,
     "metadata": {},
     "output_type": "execute_result"
    }
   ],
   "source": [
    "# figure out the resutls as follow. \n",
    "airbnb_df[['Stays','daily_revenue','minimum_nights', 'revenue_per_night','estimated_total_revenue']].head(10)"
   ]
  },
  {
   "cell_type": "code",
   "execution_count": null,
   "metadata": {},
   "outputs": [],
   "source": [
    "# 5. Explore the data at a high-level Using Groupbys and/or PivotTables contain\n",
    "# the host name, total revenue, and number of listings."
   ]
  },
  {
   "cell_type": "code",
   "execution_count": 129,
   "metadata": {},
   "outputs": [],
   "source": [
    "# a. using pivot_table \n",
    "# sort the estimated toatal revenue in decending order \n",
    "gby_pt_hostname =pd.pivot_table(airbnb_df,index=['host_name'],values =['id','estimated_total_revenue'],dropna=False,\n",
    "                 aggfunc={'id':np.count_nonzero, 'estimated_total_revenue':np.sum}).\\\n",
    "            rename(columns={'id':'number_of_listings', 'estimated_total_revenue': 'sum_estimated_total_revenue'}).\\\n",
    "            sort_values(by=['sum_estimated_total_revenue'], ascending=False, inplace=False)"
   ]
  },
  {
   "cell_type": "code",
   "execution_count": null,
   "metadata": {},
   "outputs": [],
   "source": []
  },
  {
   "cell_type": "code",
   "execution_count": null,
   "metadata": {},
   "outputs": [],
   "source": []
  },
  {
   "cell_type": "code",
   "execution_count": 101,
   "metadata": {},
   "outputs": [
    {
     "data": {
      "text/html": [
       "<div>\n",
       "<style scoped>\n",
       "    .dataframe tbody tr th:only-of-type {\n",
       "        vertical-align: middle;\n",
       "    }\n",
       "\n",
       "    .dataframe tbody tr th {\n",
       "        vertical-align: top;\n",
       "    }\n",
       "\n",
       "    .dataframe thead th {\n",
       "        text-align: right;\n",
       "    }\n",
       "</style>\n",
       "<table border=\"1\" class=\"dataframe\">\n",
       "  <thead>\n",
       "    <tr style=\"text-align: right;\">\n",
       "      <th></th>\n",
       "      <th>sum_estimated_total_revenue</th>\n",
       "      <th>number_of_listings</th>\n",
       "    </tr>\n",
       "    <tr>\n",
       "      <th>host_name</th>\n",
       "      <th></th>\n",
       "      <th></th>\n",
       "    </tr>\n",
       "  </thead>\n",
       "  <tbody>\n",
       "    <tr>\n",
       "      <th>Hermosa</th>\n",
       "      <td>923036.0</td>\n",
       "      <td>2</td>\n",
       "    </tr>\n",
       "    <tr>\n",
       "      <th>Charlotte</th>\n",
       "      <td>783036.0</td>\n",
       "      <td>31</td>\n",
       "    </tr>\n",
       "    <tr>\n",
       "      <th>Cliff</th>\n",
       "      <td>704106.0</td>\n",
       "      <td>26</td>\n",
       "    </tr>\n",
       "    <tr>\n",
       "      <th>Gohar</th>\n",
       "      <td>484830.0</td>\n",
       "      <td>4</td>\n",
       "    </tr>\n",
       "    <tr>\n",
       "      <th>Jessica</th>\n",
       "      <td>432646.0</td>\n",
       "      <td>11</td>\n",
       "    </tr>\n",
       "    <tr>\n",
       "      <th>Seamless</th>\n",
       "      <td>419822.0</td>\n",
       "      <td>42</td>\n",
       "    </tr>\n",
       "    <tr>\n",
       "      <th>Heather</th>\n",
       "      <td>365514.0</td>\n",
       "      <td>13</td>\n",
       "    </tr>\n",
       "    <tr>\n",
       "      <th>Matt And Jean</th>\n",
       "      <td>329850.0</td>\n",
       "      <td>2</td>\n",
       "    </tr>\n",
       "    <tr>\n",
       "      <th>The Remuzzi Brothers</th>\n",
       "      <td>314932.0</td>\n",
       "      <td>2</td>\n",
       "    </tr>\n",
       "    <tr>\n",
       "      <th>Art</th>\n",
       "      <td>312840.0</td>\n",
       "      <td>5</td>\n",
       "    </tr>\n",
       "  </tbody>\n",
       "</table>\n",
       "</div>"
      ],
      "text/plain": [
       "                      sum_estimated_total_revenue  number_of_listings\n",
       "host_name                                                            \n",
       "Hermosa                                  923036.0                   2\n",
       "Charlotte                                783036.0                  31\n",
       "Cliff                                    704106.0                  26\n",
       "Gohar                                    484830.0                   4\n",
       "Jessica                                  432646.0                  11\n",
       "Seamless                                 419822.0                  42\n",
       "Heather                                  365514.0                  13\n",
       "Matt And Jean                            329850.0                   2\n",
       "The Remuzzi Brothers                     314932.0                   2\n",
       "Art                                      312840.0                   5"
      ]
     },
     "execution_count": 101,
     "metadata": {},
     "output_type": "execute_result"
    }
   ],
   "source": [
    "gby_pt_hostname.head(10)"
   ]
  },
  {
   "cell_type": "markdown",
   "metadata": {},
   "source": []
  },
  {
   "cell_type": "code",
   "execution_count": 110,
   "metadata": {},
   "outputs": [],
   "source": [
    "# b. using the groupby to explore the high level of data\n",
    "# sort the grby_host_name to show the more positive value of total revenu for host name. \n",
    "\n",
    "grby_host_name = airbnb_df.groupby(['host_id', 'host_name']).agg({'id':'count', 'estimated_total_revenue': 'sum'}). \\\n",
    "            rename(columns={'id':'number_of_listings', 'estimated_total_revenue': 'sum_estimated_total_revenue'}).\\\n",
    "            sort_values(by=['sum_estimated_total_revenue'], ascending=False, inplace=False)"
   ]
  },
  {
   "cell_type": "code",
   "execution_count": null,
   "metadata": {},
   "outputs": [],
   "source": []
  },
  {
   "cell_type": "code",
   "execution_count": null,
   "metadata": {},
   "outputs": [],
   "source": []
  },
  {
   "cell_type": "code",
   "execution_count": 111,
   "metadata": {},
   "outputs": [
    {
     "data": {
      "text/html": [
       "<div>\n",
       "<style scoped>\n",
       "    .dataframe tbody tr th:only-of-type {\n",
       "        vertical-align: middle;\n",
       "    }\n",
       "\n",
       "    .dataframe tbody tr th {\n",
       "        vertical-align: top;\n",
       "    }\n",
       "\n",
       "    .dataframe thead th {\n",
       "        text-align: right;\n",
       "    }\n",
       "</style>\n",
       "<table border=\"1\" class=\"dataframe\">\n",
       "  <thead>\n",
       "    <tr style=\"text-align: right;\">\n",
       "      <th></th>\n",
       "      <th></th>\n",
       "      <th>number_of_listings</th>\n",
       "      <th>sum_estimated_total_revenue</th>\n",
       "    </tr>\n",
       "    <tr>\n",
       "      <th>host_id</th>\n",
       "      <th>host_name</th>\n",
       "      <th></th>\n",
       "      <th></th>\n",
       "    </tr>\n",
       "  </thead>\n",
       "  <tbody>\n",
       "    <tr>\n",
       "      <th>180061</th>\n",
       "      <th>Hermosa</th>\n",
       "      <td>2</td>\n",
       "      <td>923036.0</td>\n",
       "    </tr>\n",
       "    <tr>\n",
       "      <th>8008783</th>\n",
       "      <th>Cliff</th>\n",
       "      <td>26</td>\n",
       "      <td>704106.0</td>\n",
       "    </tr>\n",
       "    <tr>\n",
       "      <th>17633</th>\n",
       "      <th>Charlotte</th>\n",
       "      <td>28</td>\n",
       "      <td>688576.0</td>\n",
       "    </tr>\n",
       "    <tr>\n",
       "      <th>14268157</th>\n",
       "      <th>Gohar</th>\n",
       "      <td>4</td>\n",
       "      <td>484830.0</td>\n",
       "    </tr>\n",
       "    <tr>\n",
       "      <th>25188</th>\n",
       "      <th>Seamless</th>\n",
       "      <td>42</td>\n",
       "      <td>419822.0</td>\n",
       "    </tr>\n",
       "    <tr>\n",
       "      <th>12830388</th>\n",
       "      <th>Jessica</th>\n",
       "      <td>1</td>\n",
       "      <td>393800.0</td>\n",
       "    </tr>\n",
       "    <tr>\n",
       "      <th>64814</th>\n",
       "      <th>Matt And Jean</th>\n",
       "      <td>2</td>\n",
       "      <td>329850.0</td>\n",
       "    </tr>\n",
       "    <tr>\n",
       "      <th>29711</th>\n",
       "      <th>The Remuzzi Brothers</th>\n",
       "      <td>2</td>\n",
       "      <td>314932.0</td>\n",
       "    </tr>\n",
       "    <tr>\n",
       "      <th>1864688</th>\n",
       "      <th>Art</th>\n",
       "      <td>5</td>\n",
       "      <td>312840.0</td>\n",
       "    </tr>\n",
       "    <tr>\n",
       "      <th>27696</th>\n",
       "      <th>Leslie &amp; Joe</th>\n",
       "      <td>5</td>\n",
       "      <td>312052.0</td>\n",
       "    </tr>\n",
       "  </tbody>\n",
       "</table>\n",
       "</div>"
      ],
      "text/plain": [
       "                               number_of_listings  sum_estimated_total_revenue\n",
       "host_id  host_name                                                            \n",
       "180061   Hermosa                                2                     923036.0\n",
       "8008783  Cliff                                 26                     704106.0\n",
       "17633    Charlotte                             28                     688576.0\n",
       "14268157 Gohar                                  4                     484830.0\n",
       "25188    Seamless                              42                     419822.0\n",
       "12830388 Jessica                                1                     393800.0\n",
       "64814    Matt And Jean                          2                     329850.0\n",
       "29711    The Remuzzi Brothers                   2                     314932.0\n",
       "1864688  Art                                    5                     312840.0\n",
       "27696    Leslie & Joe                           5                     312052.0"
      ]
     },
     "execution_count": 111,
     "metadata": {},
     "output_type": "execute_result"
    }
   ],
   "source": [
    "# figure out the resutl after sorting \n",
    "grby_host_name.head(10)"
   ]
  },
  {
   "cell_type": "code",
   "execution_count": null,
   "metadata": {},
   "outputs": [],
   "source": []
  },
  {
   "cell_type": "code",
   "execution_count": null,
   "metadata": {},
   "outputs": [],
   "source": []
  },
  {
   "cell_type": "markdown",
   "metadata": {},
   "source": [
    "### PROMPT 2: Which property types receive the most positive reviews?\n"
   ]
  },
  {
   "cell_type": "markdown",
   "metadata": {},
   "source": [
    "○\tGroupbys and/or PivotTables: the property type, number of listings, and average rating"
   ]
  },
  {
   "cell_type": "code",
   "execution_count": 239,
   "metadata": {},
   "outputs": [],
   "source": [
    "# using groupby\n",
    "# and sort the estimated toatal revenue in decending order \n",
    "grby_property_type = airbnb_df.groupby('property_type').agg({'id':'count', 'review_scores_rating': 'mean'}). \\\n",
    "            rename(columns={'id':'number_of_listings', 'review_scores_rating': 'average_ratings'}).\\\n",
    "            sort_values(by=['average_ratings'], ascending=False, inplace=False)"
   ]
  },
  {
   "cell_type": "code",
   "execution_count": 261,
   "metadata": {},
   "outputs": [
    {
     "data": {
      "text/html": [
       "<div>\n",
       "<style scoped>\n",
       "    .dataframe tbody tr th:only-of-type {\n",
       "        vertical-align: middle;\n",
       "    }\n",
       "\n",
       "    .dataframe tbody tr th {\n",
       "        vertical-align: top;\n",
       "    }\n",
       "\n",
       "    .dataframe thead th {\n",
       "        text-align: right;\n",
       "    }\n",
       "</style>\n",
       "<table border=\"1\" class=\"dataframe\">\n",
       "  <thead>\n",
       "    <tr style=\"text-align: right;\">\n",
       "      <th></th>\n",
       "      <th>number_of_listings</th>\n",
       "      <th>average_ratings</th>\n",
       "    </tr>\n",
       "    <tr>\n",
       "      <th>property_type</th>\n",
       "      <th></th>\n",
       "      <th></th>\n",
       "    </tr>\n",
       "  </thead>\n",
       "  <tbody>\n",
       "    <tr>\n",
       "      <th>Bungalow</th>\n",
       "      <td>1</td>\n",
       "      <td>100.000000</td>\n",
       "    </tr>\n",
       "    <tr>\n",
       "      <th>Cabin</th>\n",
       "      <td>1</td>\n",
       "      <td>97.000000</td>\n",
       "    </tr>\n",
       "    <tr>\n",
       "      <th>Condominium</th>\n",
       "      <td>48</td>\n",
       "      <td>95.791667</td>\n",
       "    </tr>\n",
       "    <tr>\n",
       "      <th>Townhouse</th>\n",
       "      <td>48</td>\n",
       "      <td>95.319149</td>\n",
       "    </tr>\n",
       "    <tr>\n",
       "      <th>House</th>\n",
       "      <td>938</td>\n",
       "      <td>93.602371</td>\n",
       "    </tr>\n",
       "  </tbody>\n",
       "</table>\n",
       "</div>"
      ],
      "text/plain": [
       "               number_of_listings  average_ratings\n",
       "property_type                                     \n",
       "Bungalow                        1       100.000000\n",
       "Cabin                           1        97.000000\n",
       "Condominium                    48        95.791667\n",
       "Townhouse                      48        95.319149\n",
       "House                         938        93.602371"
      ]
     },
     "execution_count": 261,
     "metadata": {},
     "output_type": "execute_result"
    }
   ],
   "source": [
    "grby_property_type.head()"
   ]
  },
  {
   "cell_type": "code",
   "execution_count": 259,
   "metadata": {},
   "outputs": [],
   "source": [
    "# exceclude the number of listing less than 10. \n",
    "property_type_moreListing = grby_property_type[grby_property_type['number_of_listings'] > 10 ]"
   ]
  },
  {
   "cell_type": "code",
   "execution_count": 260,
   "metadata": {},
   "outputs": [
    {
     "data": {
      "text/html": [
       "<div>\n",
       "<style scoped>\n",
       "    .dataframe tbody tr th:only-of-type {\n",
       "        vertical-align: middle;\n",
       "    }\n",
       "\n",
       "    .dataframe tbody tr th {\n",
       "        vertical-align: top;\n",
       "    }\n",
       "\n",
       "    .dataframe thead th {\n",
       "        text-align: right;\n",
       "    }\n",
       "</style>\n",
       "<table border=\"1\" class=\"dataframe\">\n",
       "  <thead>\n",
       "    <tr style=\"text-align: right;\">\n",
       "      <th></th>\n",
       "      <th>number_of_listings</th>\n",
       "      <th>average_ratings</th>\n",
       "    </tr>\n",
       "    <tr>\n",
       "      <th>property_type</th>\n",
       "      <th></th>\n",
       "      <th></th>\n",
       "    </tr>\n",
       "  </thead>\n",
       "  <tbody>\n",
       "    <tr>\n",
       "      <th>Condominium</th>\n",
       "      <td>48</td>\n",
       "      <td>95.791667</td>\n",
       "    </tr>\n",
       "    <tr>\n",
       "      <th>Townhouse</th>\n",
       "      <td>48</td>\n",
       "      <td>95.319149</td>\n",
       "    </tr>\n",
       "    <tr>\n",
       "      <th>House</th>\n",
       "      <td>938</td>\n",
       "      <td>93.602371</td>\n",
       "    </tr>\n",
       "    <tr>\n",
       "      <th>Apartment</th>\n",
       "      <td>1718</td>\n",
       "      <td>93.299882</td>\n",
       "    </tr>\n",
       "    <tr>\n",
       "      <th>Loft</th>\n",
       "      <td>19</td>\n",
       "      <td>93.157895</td>\n",
       "    </tr>\n",
       "    <tr>\n",
       "      <th>Bed &amp; Breakfast</th>\n",
       "      <td>36</td>\n",
       "      <td>92.111111</td>\n",
       "    </tr>\n",
       "  </tbody>\n",
       "</table>\n",
       "</div>"
      ],
      "text/plain": [
       "                 number_of_listings  average_ratings\n",
       "property_type                                       \n",
       "Condominium                      48        95.791667\n",
       "Townhouse                        48        95.319149\n",
       "House                           938        93.602371\n",
       "Apartment                      1718        93.299882\n",
       "Loft                             19        93.157895\n",
       "Bed & Breakfast                  36        92.111111"
      ]
     },
     "execution_count": 260,
     "metadata": {},
     "output_type": "execute_result"
    }
   ],
   "source": [
    "property_type_moreListing.head(10)"
   ]
  },
  {
   "cell_type": "code",
   "execution_count": null,
   "metadata": {},
   "outputs": [],
   "source": []
  },
  {
   "cell_type": "code",
   "execution_count": null,
   "metadata": {},
   "outputs": [],
   "source": []
  },
  {
   "cell_type": "code",
   "execution_count": null,
   "metadata": {},
   "outputs": [],
   "source": []
  },
  {
   "cell_type": "code",
   "execution_count": null,
   "metadata": {},
   "outputs": [],
   "source": []
  },
  {
   "attachments": {},
   "cell_type": "markdown",
   "metadata": {},
   "source": [
    "### PROMPT 3: Which neighborhoods host the most listings?\n",
    "\n",
    "  So, in order to figure out which is the most neighborhoods host listing, we need to\n",
    "find should check the neighborhood column. \n",
    "- neighborhood - maybe host name as well - and the number of listings \n"
   ]
  },
  {
   "cell_type": "code",
   "execution_count": 87,
   "metadata": {},
   "outputs": [
    {
     "data": {
      "text/html": [
       "<div>\n",
       "<style scoped>\n",
       "    .dataframe tbody tr th:only-of-type {\n",
       "        vertical-align: middle;\n",
       "    }\n",
       "\n",
       "    .dataframe tbody tr th {\n",
       "        vertical-align: top;\n",
       "    }\n",
       "\n",
       "    .dataframe thead th {\n",
       "        text-align: right;\n",
       "    }\n",
       "</style>\n",
       "<table border=\"1\" class=\"dataframe\">\n",
       "  <thead>\n",
       "    <tr style=\"text-align: right;\">\n",
       "      <th></th>\n",
       "      <th>host_neighbourhood</th>\n",
       "      <th>host_listings_count</th>\n",
       "      <th>host_total_listings_count</th>\n",
       "      <th>neighbourhood</th>\n",
       "    </tr>\n",
       "  </thead>\n",
       "  <tbody>\n",
       "    <tr>\n",
       "      <th>1</th>\n",
       "      <td>Capitol Hill</td>\n",
       "      <td>1</td>\n",
       "      <td>1</td>\n",
       "      <td>Capitol Hill</td>\n",
       "    </tr>\n",
       "    <tr>\n",
       "      <th>23</th>\n",
       "      <td>Woodley Park</td>\n",
       "      <td>1</td>\n",
       "      <td>1</td>\n",
       "      <td>Woodley Park</td>\n",
       "    </tr>\n",
       "    <tr>\n",
       "      <th>24</th>\n",
       "      <td>Logan Circle</td>\n",
       "      <td>2</td>\n",
       "      <td>2</td>\n",
       "      <td>Logan Circle</td>\n",
       "    </tr>\n",
       "    <tr>\n",
       "      <th>25</th>\n",
       "      <td>Logan Circle</td>\n",
       "      <td>1</td>\n",
       "      <td>1</td>\n",
       "      <td>Logan Circle</td>\n",
       "    </tr>\n",
       "    <tr>\n",
       "      <th>26</th>\n",
       "      <td>Shaw</td>\n",
       "      <td>1</td>\n",
       "      <td>1</td>\n",
       "      <td>Shaw</td>\n",
       "    </tr>\n",
       "    <tr>\n",
       "      <th>27</th>\n",
       "      <td>Mount Vernon Square</td>\n",
       "      <td>1</td>\n",
       "      <td>1</td>\n",
       "      <td>Mount Vernon Square</td>\n",
       "    </tr>\n",
       "    <tr>\n",
       "      <th>28</th>\n",
       "      <td>Shaw</td>\n",
       "      <td>1</td>\n",
       "      <td>1</td>\n",
       "      <td>Shaw</td>\n",
       "    </tr>\n",
       "    <tr>\n",
       "      <th>29</th>\n",
       "      <td>Downtown/Penn Quarter</td>\n",
       "      <td>3</td>\n",
       "      <td>3</td>\n",
       "      <td>Shaw</td>\n",
       "    </tr>\n",
       "    <tr>\n",
       "      <th>30</th>\n",
       "      <td>Shaw</td>\n",
       "      <td>3</td>\n",
       "      <td>3</td>\n",
       "      <td>Shaw</td>\n",
       "    </tr>\n",
       "    <tr>\n",
       "      <th>31</th>\n",
       "      <td>Shaw</td>\n",
       "      <td>5</td>\n",
       "      <td>5</td>\n",
       "      <td>Shaw</td>\n",
       "    </tr>\n",
       "  </tbody>\n",
       "</table>\n",
       "</div>"
      ],
      "text/plain": [
       "       host_neighbourhood  host_listings_count  host_total_listings_count  \\\n",
       "1            Capitol Hill                    1                          1   \n",
       "23           Woodley Park                    1                          1   \n",
       "24           Logan Circle                    2                          2   \n",
       "25           Logan Circle                    1                          1   \n",
       "26                   Shaw                    1                          1   \n",
       "27    Mount Vernon Square                    1                          1   \n",
       "28                   Shaw                    1                          1   \n",
       "29  Downtown/Penn Quarter                    3                          3   \n",
       "30                   Shaw                    3                          3   \n",
       "31                   Shaw                    5                          5   \n",
       "\n",
       "          neighbourhood  \n",
       "1          Capitol Hill  \n",
       "23         Woodley Park  \n",
       "24         Logan Circle  \n",
       "25         Logan Circle  \n",
       "26                 Shaw  \n",
       "27  Mount Vernon Square  \n",
       "28                 Shaw  \n",
       "29                 Shaw  \n",
       "30                 Shaw  \n",
       "31                 Shaw  "
      ]
     },
     "execution_count": 87,
     "metadata": {},
     "output_type": "execute_result"
    }
   ],
   "source": [
    "# chaeck the values related\n",
    "airbnb_df[['host_neighbourhood','host_listings_count','host_total_listings_count','neighbourhood']].head(10)"
   ]
  },
  {
   "cell_type": "code",
   "execution_count": 226,
   "metadata": {},
   "outputs": [],
   "source": [
    "grby_neighbourhood = airbnb_df.groupby('neighbourhood').agg({'id':'count'}). \\\n",
    "            rename(columns={'id':'number_of_listings'}).\\\n",
    "            sort_values(by=['number_of_listings'], ascending=False, inplace=False)"
   ]
  },
  {
   "cell_type": "code",
   "execution_count": null,
   "metadata": {},
   "outputs": [],
   "source": []
  },
  {
   "cell_type": "code",
   "execution_count": 227,
   "metadata": {},
   "outputs": [
    {
     "data": {
      "text/html": [
       "<div>\n",
       "<style scoped>\n",
       "    .dataframe tbody tr th:only-of-type {\n",
       "        vertical-align: middle;\n",
       "    }\n",
       "\n",
       "    .dataframe tbody tr th {\n",
       "        vertical-align: top;\n",
       "    }\n",
       "\n",
       "    .dataframe thead th {\n",
       "        text-align: right;\n",
       "    }\n",
       "</style>\n",
       "<table border=\"1\" class=\"dataframe\">\n",
       "  <thead>\n",
       "    <tr style=\"text-align: right;\">\n",
       "      <th></th>\n",
       "      <th>number_of_listings</th>\n",
       "    </tr>\n",
       "    <tr>\n",
       "      <th>neighbourhood</th>\n",
       "      <th></th>\n",
       "    </tr>\n",
       "  </thead>\n",
       "  <tbody>\n",
       "    <tr>\n",
       "      <th>Capitol Hill</th>\n",
       "      <td>274</td>\n",
       "    </tr>\n",
       "    <tr>\n",
       "      <th>Columbia Heights</th>\n",
       "      <td>202</td>\n",
       "    </tr>\n",
       "    <tr>\n",
       "      <th>Dupont Circle</th>\n",
       "      <td>160</td>\n",
       "    </tr>\n",
       "    <tr>\n",
       "      <th>Logan Circle</th>\n",
       "      <td>154</td>\n",
       "    </tr>\n",
       "    <tr>\n",
       "      <th>U Street Corridor</th>\n",
       "      <td>143</td>\n",
       "    </tr>\n",
       "    <tr>\n",
       "      <th>Adams Morgan</th>\n",
       "      <td>109</td>\n",
       "    </tr>\n",
       "    <tr>\n",
       "      <th>Near Northeast/H Street Corridor</th>\n",
       "      <td>103</td>\n",
       "    </tr>\n",
       "    <tr>\n",
       "      <th>Shaw</th>\n",
       "      <td>96</td>\n",
       "    </tr>\n",
       "    <tr>\n",
       "      <th>Petworth</th>\n",
       "      <td>72</td>\n",
       "    </tr>\n",
       "    <tr>\n",
       "      <th>Georgetown</th>\n",
       "      <td>69</td>\n",
       "    </tr>\n",
       "  </tbody>\n",
       "</table>\n",
       "</div>"
      ],
      "text/plain": [
       "                                  number_of_listings\n",
       "neighbourhood                                       \n",
       "Capitol Hill                                     274\n",
       "Columbia Heights                                 202\n",
       "Dupont Circle                                    160\n",
       "Logan Circle                                     154\n",
       "U Street Corridor                                143\n",
       "Adams Morgan                                     109\n",
       "Near Northeast/H Street Corridor                 103\n",
       "Shaw                                              96\n",
       "Petworth                                          72\n",
       "Georgetown                                        69"
      ]
     },
     "execution_count": 227,
     "metadata": {},
     "output_type": "execute_result"
    }
   ],
   "source": [
    "grby_neighbourhood.head(10)"
   ]
  },
  {
   "cell_type": "code",
   "execution_count": null,
   "metadata": {},
   "outputs": [],
   "source": []
  },
  {
   "cell_type": "code",
   "execution_count": null,
   "metadata": {},
   "outputs": [],
   "source": []
  },
  {
   "cell_type": "markdown",
   "metadata": {},
   "source": [
    "### PROMPT 4: Which neighborhoods receive the most positive reviews?\n",
    "\n"
   ]
  },
  {
   "cell_type": "code",
   "execution_count": null,
   "metadata": {},
   "outputs": [],
   "source": []
  },
  {
   "cell_type": "code",
   "execution_count": 250,
   "metadata": {},
   "outputs": [],
   "source": [
    "grby_neighbourhood_pos_rev = airbnb_df.groupby('neighbourhood').agg({'id':'count', 'review_scores_rating': 'mean'}). \\\n",
    "            rename(columns={'id':'number_of_listings', 'review_scores_rating': 'average_ratings'}).\\\n",
    "            sort_values(by=['number_of_listings'], ascending=False, inplace=False)"
   ]
  },
  {
   "cell_type": "code",
   "execution_count": null,
   "metadata": {},
   "outputs": [],
   "source": []
  },
  {
   "cell_type": "code",
   "execution_count": null,
   "metadata": {},
   "outputs": [],
   "source": []
  },
  {
   "cell_type": "code",
   "execution_count": 232,
   "metadata": {},
   "outputs": [],
   "source": []
  },
  {
   "cell_type": "code",
   "execution_count": 251,
   "metadata": {},
   "outputs": [
    {
     "data": {
      "text/html": [
       "<div>\n",
       "<style scoped>\n",
       "    .dataframe tbody tr th:only-of-type {\n",
       "        vertical-align: middle;\n",
       "    }\n",
       "\n",
       "    .dataframe tbody tr th {\n",
       "        vertical-align: top;\n",
       "    }\n",
       "\n",
       "    .dataframe thead th {\n",
       "        text-align: right;\n",
       "    }\n",
       "</style>\n",
       "<table border=\"1\" class=\"dataframe\">\n",
       "  <thead>\n",
       "    <tr style=\"text-align: right;\">\n",
       "      <th></th>\n",
       "      <th>number_of_listings</th>\n",
       "      <th>average_ratings</th>\n",
       "    </tr>\n",
       "    <tr>\n",
       "      <th>neighbourhood</th>\n",
       "      <th></th>\n",
       "      <th></th>\n",
       "    </tr>\n",
       "  </thead>\n",
       "  <tbody>\n",
       "    <tr>\n",
       "      <th>Capitol Hill</th>\n",
       "      <td>274</td>\n",
       "      <td>94.605166</td>\n",
       "    </tr>\n",
       "    <tr>\n",
       "      <th>Columbia Heights</th>\n",
       "      <td>202</td>\n",
       "      <td>92.720000</td>\n",
       "    </tr>\n",
       "    <tr>\n",
       "      <th>Dupont Circle</th>\n",
       "      <td>160</td>\n",
       "      <td>93.242038</td>\n",
       "    </tr>\n",
       "    <tr>\n",
       "      <th>Logan Circle</th>\n",
       "      <td>154</td>\n",
       "      <td>93.973510</td>\n",
       "    </tr>\n",
       "    <tr>\n",
       "      <th>U Street Corridor</th>\n",
       "      <td>143</td>\n",
       "      <td>94.401408</td>\n",
       "    </tr>\n",
       "  </tbody>\n",
       "</table>\n",
       "</div>"
      ],
      "text/plain": [
       "                   number_of_listings  average_ratings\n",
       "neighbourhood                                         \n",
       "Capitol Hill                      274        94.605166\n",
       "Columbia Heights                  202        92.720000\n",
       "Dupont Circle                     160        93.242038\n",
       "Logan Circle                      154        93.973510\n",
       "U Street Corridor                 143        94.401408"
      ]
     },
     "execution_count": 251,
     "metadata": {},
     "output_type": "execute_result"
    }
   ],
   "source": [
    "grby_neighbourhood_pos_rev.head()"
   ]
  },
  {
   "cell_type": "code",
   "execution_count": null,
   "metadata": {},
   "outputs": [],
   "source": []
  },
  {
   "cell_type": "code",
   "execution_count": null,
   "metadata": {},
   "outputs": [],
   "source": []
  },
  {
   "cell_type": "markdown",
   "metadata": {},
   "source": [
    "## Data Visualization"
   ]
  },
  {
   "cell_type": "markdown",
   "metadata": {},
   "source": [
    "#### PROMPT 1: How much revenue do successful hosts make?"
   ]
  },
  {
   "cell_type": "markdown",
   "metadata": {},
   "source": [
    "I. Visualize the total revenue using pivot table:"
   ]
  },
  {
   "cell_type": "code",
   "execution_count": null,
   "metadata": {},
   "outputs": [],
   "source": []
  },
  {
   "cell_type": "code",
   "execution_count": 257,
   "metadata": {},
   "outputs": [
    {
     "data": {
      "image/png": "[encoded data removed]",
      "text/plain": [
       "<Figure size 576x432 with 1 Axes>"
      ]
     },
     "metadata": {
      "needs_background": "light"
     },
     "output_type": "display_data"
    }
   ],
   "source": [
    "ax = gby_pt_hostname.sum_estimated_total_revenue[:8].plot(kind='barh', color='green');\n",
    "# Set the title.\n",
    "ax.set_title('Total revenue per host name ', fontsize=20, y=1.07);\n",
    "\n",
    "# Move the legend.\n",
    "# ax.legend.hide();\n",
    "\n",
    "# x-axis labels\n",
    "ax.set_ylabel('host name', fontsize=12);\n",
    "\n",
    "# y-axis labels\n",
    "ax.set_xlabel('sum of estimate total revenue', fontsize=12)\n",
    "plt.xticks(rotation=0);\n"
   ]
  },
  {
   "cell_type": "markdown",
   "metadata": {},
   "source": [
    "total revenue chart desc"
   ]
  },
  {
   "cell_type": "markdown",
   "metadata": {},
   "source": [
    "II. Visualize the total revenue using groupby "
   ]
  },
  {
   "cell_type": "code",
   "execution_count": 258,
   "metadata": {},
   "outputs": [
    {
     "data": {
      "image/png": "[encoded data removed]",
      "text/plain": [
       "<Figure size 576x432 with 1 Axes>"
      ]
     },
     "metadata": {
      "needs_background": "light"
     },
     "output_type": "display_data"
    }
   ],
   "source": [
    "# compare with visualized pivot table above\n",
    "# chart fo most positve total revenue for host name and its host id. \n",
    "\n",
    "\n",
    "ax = grby_host_name.sum_estimated_total_revenue[:10].plot(kind='barh', color='#5282ce');\n",
    "# Set the title.\n",
    "ax.set_title('Total revenue per host name ', fontsize=20, y=1.07);\n",
    "\n",
    "# Move the legend.\n",
    "# ax.legend.hide();\n",
    "\n",
    "# x-axis labels\n",
    "ax.set_ylabel('host name and id', fontsize=12);\n",
    "\n",
    "# y-axis labels\n",
    "ax.set_xlabel('sum of estimate total revenue', fontsize=12)\n",
    "plt.xticks(rotation=0);"
   ]
  },
  {
   "cell_type": "markdown",
   "metadata": {},
   "source": [
    "chart description "
   ]
  },
  {
   "cell_type": "markdown",
   "metadata": {},
   "source": [
    "#### PROMPT 2: Which property types receive the most positive reviews?"
   ]
  },
  {
   "cell_type": "code",
   "execution_count": 267,
   "metadata": {},
   "outputs": [
    {
     "data": {
      "text/html": [
       "<div>\n",
       "<style scoped>\n",
       "    .dataframe tbody tr th:only-of-type {\n",
       "        vertical-align: middle;\n",
       "    }\n",
       "\n",
       "    .dataframe tbody tr th {\n",
       "        vertical-align: top;\n",
       "    }\n",
       "\n",
       "    .dataframe thead th {\n",
       "        text-align: right;\n",
       "    }\n",
       "</style>\n",
       "<table border=\"1\" class=\"dataframe\">\n",
       "  <thead>\n",
       "    <tr style=\"text-align: right;\">\n",
       "      <th></th>\n",
       "      <th>number_of_listings</th>\n",
       "      <th>average_ratings</th>\n",
       "    </tr>\n",
       "    <tr>\n",
       "      <th>property_type</th>\n",
       "      <th></th>\n",
       "      <th></th>\n",
       "    </tr>\n",
       "  </thead>\n",
       "  <tbody>\n",
       "    <tr>\n",
       "      <th>Condominium</th>\n",
       "      <td>48</td>\n",
       "      <td>95.791667</td>\n",
       "    </tr>\n",
       "    <tr>\n",
       "      <th>Townhouse</th>\n",
       "      <td>48</td>\n",
       "      <td>95.319149</td>\n",
       "    </tr>\n",
       "    <tr>\n",
       "      <th>House</th>\n",
       "      <td>938</td>\n",
       "      <td>93.602371</td>\n",
       "    </tr>\n",
       "    <tr>\n",
       "      <th>Apartment</th>\n",
       "      <td>1718</td>\n",
       "      <td>93.299882</td>\n",
       "    </tr>\n",
       "    <tr>\n",
       "      <th>Loft</th>\n",
       "      <td>19</td>\n",
       "      <td>93.157895</td>\n",
       "    </tr>\n",
       "    <tr>\n",
       "      <th>Bed &amp; Breakfast</th>\n",
       "      <td>36</td>\n",
       "      <td>92.111111</td>\n",
       "    </tr>\n",
       "  </tbody>\n",
       "</table>\n",
       "</div>"
      ],
      "text/plain": [
       "                 number_of_listings  average_ratings\n",
       "property_type                                       \n",
       "Condominium                      48        95.791667\n",
       "Townhouse                        48        95.319149\n",
       "House                           938        93.602371\n",
       "Apartment                      1718        93.299882\n",
       "Loft                             19        93.157895\n",
       "Bed & Breakfast                  36        92.111111"
      ]
     },
     "execution_count": 267,
     "metadata": {},
     "output_type": "execute_result"
    }
   ],
   "source": [
    "property_type_moreListing"
   ]
  },
  {
   "cell_type": "code",
   "execution_count": 271,
   "metadata": {},
   "outputs": [
    {
     "data": {
      "image/png": "[encoded data removed]",
      "text/plain": [
       "<Figure size 576x432 with 1 Axes>"
      ]
     },
     "metadata": {
      "needs_background": "light"
     },
     "output_type": "display_data"
    }
   ],
   "source": [
    "property_type_moreListing.average_ratings.plot(kind='bar', color='#5282ce')\n",
    "plt.xticks(rotation=1);"
   ]
  },
  {
   "cell_type": "code",
   "execution_count": 273,
   "metadata": {},
   "outputs": [
    {
     "data": {
      "image/png": "[encoded data removed]",
      "text/plain": [
       "<Figure size 576x432 with 1 Axes>"
      ]
     },
     "metadata": {
      "needs_background": "light"
     },
     "output_type": "display_data"
    }
   ],
   "source": [
    "# compare with visualized pivot table above\n",
    "# chart fo most positve total revenue for host name and its host id. \n",
    "\n",
    "\n",
    "ax = property_type_moreListing.average_ratings[:10].plot(kind='barh', color='#5282ce');\n",
    "# Set the title.\n",
    "ax.set_title('Total revenue per host name ', fontsize=20, y=1.07);\n",
    "\n",
    "# Move the legend.\n",
    "# ax.legend.hide();\n",
    "\n",
    "# x-axis labels\n",
    "ax.set_ylabel('sum of estimate total revenue', fontsize=12);\n",
    "\n",
    "# y-axis labels\n",
    "ax.set_xlabel(' host name', fontsize=12)\n",
    "plt.xticks(rotation=0);"
   ]
  },
  {
   "cell_type": "markdown",
   "metadata": {},
   "source": [
    "#### PROMPT 3: Which neighborhoods host the most listings?"
   ]
  },
  {
   "cell_type": "code",
   "execution_count": 274,
   "metadata": {},
   "outputs": [
    {
     "data": {
      "text/html": [
       "<div>\n",
       "<style scoped>\n",
       "    .dataframe tbody tr th:only-of-type {\n",
       "        vertical-align: middle;\n",
       "    }\n",
       "\n",
       "    .dataframe tbody tr th {\n",
       "        vertical-align: top;\n",
       "    }\n",
       "\n",
       "    .dataframe thead th {\n",
       "        text-align: right;\n",
       "    }\n",
       "</style>\n",
       "<table border=\"1\" class=\"dataframe\">\n",
       "  <thead>\n",
       "    <tr style=\"text-align: right;\">\n",
       "      <th></th>\n",
       "      <th>number_of_listings</th>\n",
       "    </tr>\n",
       "    <tr>\n",
       "      <th>neighbourhood</th>\n",
       "      <th></th>\n",
       "    </tr>\n",
       "  </thead>\n",
       "  <tbody>\n",
       "    <tr>\n",
       "      <th>Capitol Hill</th>\n",
       "      <td>274</td>\n",
       "    </tr>\n",
       "    <tr>\n",
       "      <th>Columbia Heights</th>\n",
       "      <td>202</td>\n",
       "    </tr>\n",
       "    <tr>\n",
       "      <th>Dupont Circle</th>\n",
       "      <td>160</td>\n",
       "    </tr>\n",
       "    <tr>\n",
       "      <th>Logan Circle</th>\n",
       "      <td>154</td>\n",
       "    </tr>\n",
       "    <tr>\n",
       "      <th>U Street Corridor</th>\n",
       "      <td>143</td>\n",
       "    </tr>\n",
       "  </tbody>\n",
       "</table>\n",
       "</div>"
      ],
      "text/plain": [
       "                   number_of_listings\n",
       "neighbourhood                        \n",
       "Capitol Hill                      274\n",
       "Columbia Heights                  202\n",
       "Dupont Circle                     160\n",
       "Logan Circle                      154\n",
       "U Street Corridor                 143"
      ]
     },
     "execution_count": 274,
     "metadata": {},
     "output_type": "execute_result"
    }
   ],
   "source": [
    "grby_neighbourhood.head()"
   ]
  },
  {
   "cell_type": "code",
   "execution_count": 276,
   "metadata": {},
   "outputs": [
    {
     "data": {
      "image/png": "[encoded data removed]",
      "text/plain": [
       "<Figure size 576x432 with 1 Axes>"
      ]
     },
     "metadata": {
      "needs_background": "light"
     },
     "output_type": "display_data"
    }
   ],
   "source": [
    "\n",
    "ax = grby_neighbourhood.number_of_listings[:10].plot(kind='barh', color='#5282ce');\n",
    "# Set the title.\n",
    "ax.set_title(' The most listings for host neighbourhood ', fontsize=20, y=1.07);\n",
    "\n",
    "# Move the legend.\n",
    "# ax.legend.hide();\n",
    "\n",
    "# x-axis labels\n",
    "ax.set_ylabel('neighbourhood', fontsize=12);\n",
    "\n",
    "# y-axis labels\n",
    "ax.set_xlabel('number of listings', fontsize=12)\n",
    "plt.xticks(rotation=0);"
   ]
  },
  {
   "cell_type": "markdown",
   "metadata": {},
   "source": [
    "#### PROMPT 4: Which neighborhoods receive the most positive reviews?"
   ]
  },
  {
   "cell_type": "code",
   "execution_count": 278,
   "metadata": {},
   "outputs": [
    {
     "data": {
      "text/html": [
       "<div>\n",
       "<style scoped>\n",
       "    .dataframe tbody tr th:only-of-type {\n",
       "        vertical-align: middle;\n",
       "    }\n",
       "\n",
       "    .dataframe tbody tr th {\n",
       "        vertical-align: top;\n",
       "    }\n",
       "\n",
       "    .dataframe thead th {\n",
       "        text-align: right;\n",
       "    }\n",
       "</style>\n",
       "<table border=\"1\" class=\"dataframe\">\n",
       "  <thead>\n",
       "    <tr style=\"text-align: right;\">\n",
       "      <th></th>\n",
       "      <th>number_of_listings</th>\n",
       "      <th>average_ratings</th>\n",
       "    </tr>\n",
       "    <tr>\n",
       "      <th>neighbourhood</th>\n",
       "      <th></th>\n",
       "      <th></th>\n",
       "    </tr>\n",
       "  </thead>\n",
       "  <tbody>\n",
       "    <tr>\n",
       "      <th>Capitol Hill</th>\n",
       "      <td>274</td>\n",
       "      <td>94.605166</td>\n",
       "    </tr>\n",
       "    <tr>\n",
       "      <th>Columbia Heights</th>\n",
       "      <td>202</td>\n",
       "      <td>92.720000</td>\n",
       "    </tr>\n",
       "    <tr>\n",
       "      <th>Dupont Circle</th>\n",
       "      <td>160</td>\n",
       "      <td>93.242038</td>\n",
       "    </tr>\n",
       "    <tr>\n",
       "      <th>Logan Circle</th>\n",
       "      <td>154</td>\n",
       "      <td>93.973510</td>\n",
       "    </tr>\n",
       "    <tr>\n",
       "      <th>U Street Corridor</th>\n",
       "      <td>143</td>\n",
       "      <td>94.401408</td>\n",
       "    </tr>\n",
       "  </tbody>\n",
       "</table>\n",
       "</div>"
      ],
      "text/plain": [
       "                   number_of_listings  average_ratings\n",
       "neighbourhood                                         \n",
       "Capitol Hill                      274        94.605166\n",
       "Columbia Heights                  202        92.720000\n",
       "Dupont Circle                     160        93.242038\n",
       "Logan Circle                      154        93.973510\n",
       "U Street Corridor                 143        94.401408"
      ]
     },
     "execution_count": 278,
     "metadata": {},
     "output_type": "execute_result"
    }
   ],
   "source": [
    "grby_neighbourhood_pos_rev.head()"
   ]
  },
  {
   "cell_type": "code",
   "execution_count": 277,
   "metadata": {},
   "outputs": [
    {
     "data": {
      "image/png": "[encoded data removed]",
      "text/plain": [
       "<Figure size 576x432 with 1 Axes>"
      ]
     },
     "metadata": {
      "needs_background": "light"
     },
     "output_type": "display_data"
    }
   ],
   "source": [
    "\n",
    "ax = grby_neighbourhood_pos_rev.number_of_listings[:10].plot(kind='barh', color='#5282ce');\n",
    "# Set the title.\n",
    "ax.set_title(' The most ratings for host neighbourhood ', fontsize=20, y=1.07);\n",
    "\n",
    "# Move the legend.\n",
    "# ax.legend.hide();\n",
    "\n",
    "# x-axis labels\n",
    "ax.set_ylabel('neighbourhood', fontsize=12);\n",
    "\n",
    "# y-axis labels\n",
    "ax.set_xlabel('number of listings', fontsize=12)\n",
    "plt.xticks(rotation=0);"
   ]
  },
  {
   "cell_type": "code",
   "execution_count": null,
   "metadata": {},
   "outputs": [],
   "source": []
  },
  {
   "cell_type": "code",
   "execution_count": null,
   "metadata": {
    "scrolled": true
   },
   "outputs": [],
   "source": []
  }
 ],
 "metadata": {
  "kernelspec": {
   "display_name": "Python 3",
   "language": "python",
   "name": "python3"
  },
  "language_info": {
   "codemirror_mode": {
    "name": "ipython",
    "version": 3
   },
   "file_extension": ".py",
   "mimetype": "text/x-python",
   "name": "python",
   "nbconvert_exporter": "python",
   "pygments_lexer": "ipython3",
   "version": "3.7.0"
  }
 },
 "nbformat": 4,
 "nbformat_minor": 2
}
